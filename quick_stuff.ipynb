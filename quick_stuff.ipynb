{
 "cells": [
  {
   "cell_type": "code",
   "execution_count": 1,
   "metadata": {},
   "outputs": [],
   "source": [
    "from sympy import symbols, pi\n",
    "\n",
    "from robot import Robot, JointType\n",
    "\n",
    "from math_utils import Vector, Matrix"
   ]
  },
  {
   "cell_type": "code",
   "execution_count": 2,
   "metadata": {},
   "outputs": [],
   "source": [
    "d1, d2, d3, d4 = symbols('d1 d2 d3 d4')\n",
    "t1, t2, t3, t4 = symbols('t1 t2 t3 t4')\n",
    "l1, l2, l3, l4 = symbols('l1 l2 l3 l4')\n",
    "a1, a2, a3, a4 = symbols('a1 a2 a3 a4')\n",
    "s1, s2, s3, s4 = symbols('s1 s2 s3 s4')\n",
    "g = symbols('g')"
   ]
  },
  {
   "cell_type": "code",
   "execution_count": 3,
   "metadata": {},
   "outputs": [],
   "source": [
    "# dh = [\n",
    "#     [0, 0, s1, t1],\n",
    "#     [a1, -pi/2, s2, t2],\n",
    "#     [a2,0,s3,t3],\n",
    "#     [a3, 0, s4, 0]\n",
    "# ]\n",
    "dh = [\n",
    "    [0, 0, l1, t1],\n",
    "    [0, pi/2, 0, t2],\n",
    "    [0,pi/2,l2+d3,0],\n",
    "    [0, 0, 0, 0]\n",
    "]\n",
    "robot = Robot.from_dh_parameters(dh, '2rp')"
   ]
  },
  {
   "cell_type": "code",
   "execution_count": 4,
   "metadata": {},
   "outputs": [
    {
     "name": "stdout",
     "output_type": "stream",
     "text": [
      "Matrix[\n",
      "\tcos(t1),    -sin(t1),    0,    0,    \n",
      "\tsin(t1),    cos(t1),    0,    0,    \n",
      "\t0,    0,    1,    l1,    \n",
      "\t0,    0,    0,    1,    \n",
      "]\n",
      "Matrix[\n",
      "\tcos(t2),    -sin(t2),    0,    0,    \n",
      "\t0,    0,    -1,    0,    \n",
      "\tsin(t2),    cos(t2),    0,    0,    \n",
      "\t0,    0,    0,    1,    \n",
      "]\n",
      "Matrix[\n",
      "\t1,    0,    0,    0,    \n",
      "\t0,    0,    -1,    -d3 - l2,    \n",
      "\t0,    1,    0,    0,    \n",
      "\t0,    0,    0,    1,    \n",
      "]\n",
      "Matrix[\n",
      "\t1,    0,    0,    0,    \n",
      "\t0,    1,    0,    0,    \n",
      "\t0,    0,    1,    0,    \n",
      "\t0,    0,    0,    1,    \n",
      "]\n"
     ]
    }
   ],
   "source": [
    "# print Transformations\n",
    "robot.get_transformations()"
   ]
  },
  {
   "cell_type": "code",
   "execution_count": 5,
   "metadata": {},
   "outputs": [
    {
     "name": "stdout",
     "output_type": "stream",
     "text": [
      "Matrix[\n",
      "\tcos(t1),    -sin(t1),    0,    \n",
      "\tsin(t1),    cos(t1),    0,    \n",
      "\t0,    0,    1,    \n",
      "]\n",
      "Matrix[\n",
      "\tcos(t2),    -sin(t2),    0,    \n",
      "\t0,    0,    -1,    \n",
      "\tsin(t2),    cos(t2),    0,    \n",
      "]\n",
      "Matrix[\n",
      "\t1,    0,    0,    \n",
      "\t0,    0,    -1,    \n",
      "\t0,    1,    0,    \n",
      "]\n",
      "Matrix[\n",
      "\t1,    0,    0,    \n",
      "\t0,    1,    0,    \n",
      "\t0,    0,    1,    \n",
      "]\n"
     ]
    }
   ],
   "source": [
    "# print Rotations\n",
    "robot.get_rotations()"
   ]
  },
  {
   "cell_type": "code",
   "execution_count": 6,
   "metadata": {},
   "outputs": [
    {
     "name": "stdout",
     "output_type": "stream",
     "text": [
      "Vector[\tsqrt(2)*(d3 + l2)/2,  0,  l1 - sqrt(2)*(d3 + l2)/2,  1,  ]\n"
     ]
    }
   ],
   "source": [
    "# end-effector position in zero frame\n",
    "p_e = (robot.get_end_transformation() @ Vector([0, 0, 0, 1])).simplify()\n",
    "print(p_e.subs({t1: 0, t2: pi/4}))"
   ]
  },
  {
   "cell_type": "code",
   "execution_count": null,
   "metadata": {},
   "outputs": [],
   "source": [
    "# get/ print Z axis in zero fram\n",
    "axis = robot.get_zero_Z_axis(True)"
   ]
  },
  {
   "cell_type": "code",
   "execution_count": 30,
   "metadata": {},
   "outputs": [
    {
     "name": "stdout",
     "output_type": "stream",
     "text": [
      "joint 1:\n",
      " - w: Vector[\t0,  0,  dot_t1,  ]\n",
      " - v: Vector[\t0,  0,  0,  ]\n",
      "joint 2:\n",
      " - w: Vector[\tdot_t1*sin(t2),  dot_t1*cos(t2),  dot_t2,  ]\n",
      " - v: Vector[\t0,  0,  0,  ]\n",
      "joint 3:\n",
      " - w: Vector[\tdot_t1*sin(t2),  dot_t2,  -dot_t1*cos(t2),  ]\n",
      " - v: Vector[\tdot_t2*(d3 + l2),  -dot_t1*(d3 + l2)*sin(t2),  dot_d3,  ]\n",
      "joint 4:\n",
      " - w: Vector[\tdot_t1*sin(t2),  dot_t2,  -dot_t1*cos(t2),  ]\n",
      " - v: Vector[\tdot_t2*(d3 + l2),  -dot_t1*(d3 + l2)*sin(t2),  dot_d3,  ]\n"
     ]
    },
    {
     "ename": "TypeError",
     "evalue": "'NoneType' object is not iterable",
     "output_type": "error",
     "traceback": [
      "\u001B[0;31m---------------------------------------------------------------------------\u001B[0m",
      "\u001B[0;31mTypeError\u001B[0m                                 Traceback (most recent call last)",
      "\u001B[0;32m<ipython-input-30-ff495fb7bb50>\u001B[0m in \u001B[0;36m<module>\u001B[0;34m\u001B[0m\n\u001B[1;32m      2\u001B[0m \u001B[0mws\u001B[0m\u001B[0;34m,\u001B[0m \u001B[0mvs\u001B[0m \u001B[0;34m=\u001B[0m \u001B[0mrobot\u001B[0m\u001B[0;34m.\u001B[0m\u001B[0mcal_velocities\u001B[0m\u001B[0;34m(\u001B[0m\u001B[0;32mTrue\u001B[0m\u001B[0;34m)\u001B[0m\u001B[0;34m\u001B[0m\u001B[0;34m\u001B[0m\u001B[0m\n\u001B[1;32m      3\u001B[0m \u001B[0;32mfor\u001B[0m \u001B[0mi\u001B[0m\u001B[0;34m,\u001B[0m\u001B[0me\u001B[0m \u001B[0;32min\u001B[0m \u001B[0menumerate\u001B[0m\u001B[0;34m(\u001B[0m\u001B[0mvs\u001B[0m\u001B[0;34m[\u001B[0m\u001B[0;36m1\u001B[0m\u001B[0;34m:\u001B[0m\u001B[0;34m]\u001B[0m\u001B[0;34m)\u001B[0m\u001B[0;34m:\u001B[0m\u001B[0;34m\u001B[0m\u001B[0;34m\u001B[0m\u001B[0m\n\u001B[0;32m----> 4\u001B[0;31m     \u001B[0mprint\u001B[0m\u001B[0;34m(\u001B[0m\u001B[0mrobot\u001B[0m\u001B[0;34m.\u001B[0m\u001B[0mrotate_to_zero_from_i\u001B[0m\u001B[0;34m(\u001B[0m\u001B[0me\u001B[0m\u001B[0;34m,\u001B[0m \u001B[0mi\u001B[0m\u001B[0;34m)\u001B[0m\u001B[0;34m)\u001B[0m\u001B[0;34m\u001B[0m\u001B[0;34m\u001B[0m\u001B[0m\n\u001B[0m\u001B[1;32m      5\u001B[0m \u001B[0;34m\u001B[0m\u001B[0m\n",
      "\u001B[0;32m~/Documents/Uni/000.001_WS_20_21/Robotics/Code/RobotKinematics/robot.py\u001B[0m in \u001B[0;36mrotate_to_zero_from_i\u001B[0;34m(self, vector, index)\u001B[0m\n\u001B[1;32m     51\u001B[0m         \u001B[0;32massert\u001B[0m \u001B[0mlen\u001B[0m\u001B[0;34m(\u001B[0m\u001B[0mvector\u001B[0m\u001B[0;34m)\u001B[0m \u001B[0;34m==\u001B[0m \u001B[0;36m3\u001B[0m\u001B[0;34m\u001B[0m\u001B[0;34m\u001B[0m\u001B[0m\n\u001B[1;32m     52\u001B[0m         \u001B[0mrot\u001B[0m \u001B[0;34m=\u001B[0m \u001B[0mMatrix\u001B[0m\u001B[0;34m(\u001B[0m\u001B[0;32mNone\u001B[0m\u001B[0;34m,\u001B[0m \u001B[0;32mTrue\u001B[0m\u001B[0;34m,\u001B[0m \u001B[0;32mTrue\u001B[0m\u001B[0;34m)\u001B[0m\u001B[0;34m\u001B[0m\u001B[0;34m\u001B[0m\u001B[0m\n\u001B[0;32m---> 53\u001B[0;31m         \u001B[0;32mfor\u001B[0m \u001B[0mjoint\u001B[0m \u001B[0;32min\u001B[0m \u001B[0mself\u001B[0m\u001B[0;34m.\u001B[0m\u001B[0mjoints\u001B[0m\u001B[0;34m[\u001B[0m\u001B[0;36m1\u001B[0m\u001B[0;34m:\u001B[0m\u001B[0mindex\u001B[0m\u001B[0;34m+\u001B[0m\u001B[0;36m1\u001B[0m\u001B[0;34m]\u001B[0m\u001B[0;34m:\u001B[0m\u001B[0;34m\u001B[0m\u001B[0;34m\u001B[0m\u001B[0m\n\u001B[0m\u001B[1;32m     54\u001B[0m             \u001B[0mrot\u001B[0m \u001B[0;34m=\u001B[0m \u001B[0mrot\u001B[0m \u001B[0;34m@\u001B[0m \u001B[0mjoint\u001B[0m\u001B[0;34m.\u001B[0m\u001B[0mget_rotation\u001B[0m\u001B[0;34m(\u001B[0m\u001B[0;34m)\u001B[0m\u001B[0;34m\u001B[0m\u001B[0;34m\u001B[0m\u001B[0m\n\u001B[1;32m     55\u001B[0m         \u001B[0;32mreturn\u001B[0m \u001B[0mrot\u001B[0m \u001B[0;34m@\u001B[0m \u001B[0mvector\u001B[0m\u001B[0;34m\u001B[0m\u001B[0;34m\u001B[0m\u001B[0m\n",
      "\u001B[0;32m~/Documents/Uni/000.001_WS_20_21/Robotics/Code/RobotKinematics/math_utils.py\u001B[0m in \u001B[0;36m__matmul__\u001B[0;34m(self, other)\u001B[0m\n\u001B[1;32m    127\u001B[0m             \u001B[0mnew_entries\u001B[0m \u001B[0;34m=\u001B[0m \u001B[0;34m[\u001B[0m\u001B[0;34m]\u001B[0m\u001B[0;34m\u001B[0m\u001B[0;34m\u001B[0m\u001B[0m\n\u001B[1;32m    128\u001B[0m \u001B[0;34m\u001B[0m\u001B[0m\n\u001B[0;32m--> 129\u001B[0;31m             \u001B[0;32mfor\u001B[0m \u001B[0mrow\u001B[0m \u001B[0;32min\u001B[0m \u001B[0mself\u001B[0m\u001B[0;34m.\u001B[0m\u001B[0m_entries\u001B[0m\u001B[0;34m:\u001B[0m\u001B[0;34m\u001B[0m\u001B[0;34m\u001B[0m\u001B[0m\n\u001B[0m\u001B[1;32m    130\u001B[0m                 \u001B[0mnew_entries\u001B[0m\u001B[0;34m.\u001B[0m\u001B[0mappend\u001B[0m\u001B[0;34m(\u001B[0m\u001B[0mother\u001B[0m \u001B[0;34m@\u001B[0m \u001B[0mVector\u001B[0m\u001B[0;34m(\u001B[0m\u001B[0mrow\u001B[0m\u001B[0;34m)\u001B[0m\u001B[0;34m)\u001B[0m\u001B[0;34m\u001B[0m\u001B[0;34m\u001B[0m\u001B[0m\n\u001B[1;32m    131\u001B[0m             \u001B[0;32mreturn\u001B[0m \u001B[0mVector\u001B[0m\u001B[0;34m(\u001B[0m\u001B[0mnew_entries\u001B[0m\u001B[0;34m)\u001B[0m\u001B[0;34m\u001B[0m\u001B[0;34m\u001B[0m\u001B[0m\n",
      "\u001B[0;31mTypeError\u001B[0m: 'NoneType' object is not iterable"
     ]
    }
   ],
   "source": [
    "# calculate velocities\n",
    "ws, vs = robot.cal_velocities(True)\n",
    "for i,e in enumerate(vs[1:]):\n",
    "    print(robot.rotate_to_zero_from_i(e, i))"
   ]
  },
  {
   "cell_type": "code",
   "execution_count": null,
   "metadata": {},
   "outputs": [],
   "source": [
    "# calculate static kinematics\n",
    "ws, vs, fs, ns, ts = robot.cal_static_kinematics(True, True)"
   ]
  },
  {
   "cell_type": "code",
   "execution_count": 16,
   "metadata": {},
   "outputs": [
    {
     "name": "stdout",
     "output_type": "stream",
     "text": [
      "----------------Forwards Newton Euler----------------\n",
      "\n",
      "\n",
      "\n",
      "joint 1:\n",
      " - w: Vector[\t0,  0,  dot_t1,  ]\n",
      " - dw: Vector[\t0,  0,  ddot_t1,  ]\n",
      " - dv: Vector[\tg*sin(t1),  g*cos(t1),  0,  ]\n",
      "simplified 1:\n",
      " - w: Vector[\t0,  0,  dot_t1,  ]\n",
      " - dw: Vector[\t0,  0,  ddot_t1,  ]\n",
      " - dv: Vector[\tg*sin(t1),  g*cos(t1),  0,  ]\n",
      "joint 1:\n",
      " - dvc: Vector[\tg*sin(t1),  g*cos(t1),  0,  ]\n",
      " - F: Vector[\tg*m1*sin(t1),  g*m1*cos(t1),  0,  ]\n",
      " - N: Vector[\t0,  0,  I_zz1*ddot_t1,  ]\n",
      "simplified 1:\n",
      " - dvc: Vector[\tg*sin(t1),  g*cos(t1),  0,  ]\n",
      " - F: Vector[\tg*m1*sin(t1),  g*m1*cos(t1),  0,  ]\n",
      " - N: Vector[\t0,  0,  I_zz1*ddot_t1,  ]\n",
      "\n",
      "joint 2:\n",
      " - w: Vector[\tdot_t1*sin(t2),  dot_t1*cos(t2),  dot_t2,  ]\n",
      " - dw: Vector[\tddot_t1*sin(t2) + dot_t1*dot_t2*cos(t2),  ddot_t1*cos(t2) - dot_t1*dot_t2*sin(t2),  ddot_t2,  ]\n",
      " - dv: Vector[\t(ddot_t1*s2 + g*sin(t1))*cos(t2),  -(ddot_t1*s2 + g*sin(t1))*sin(t2),  -dot_t1**2*s2 - g*cos(t1),  ]\n",
      "simplified 2:\n",
      " - w: Vector[\tdot_t1*sin(t2),  dot_t1*cos(t2),  dot_t2,  ]\n",
      " - dw: Vector[\tddot_t1*sin(t2) + dot_t1*dot_t2*cos(t2),  ddot_t1*cos(t2) - dot_t1*dot_t2*sin(t2),  ddot_t2,  ]\n",
      " - dv: Vector[\t(ddot_t1*s2 + g*sin(t1))*cos(t2),  -(ddot_t1*s2 + g*sin(t1))*sin(t2),  -dot_t1**2*s2 - g*cos(t1),  ]\n",
      "joint 2:\n",
      " - dvc: Vector[\t-dot_t1**2*l1*cos(t2)**2 - dot_t2**2*l1 + (ddot_t1*s2 + g*sin(t1))*cos(t2),  ddot_t2*l1 + dot_t1**2*l1*sin(t2)*cos(t2) - (ddot_t1*s2 + g*sin(t1))*sin(t2),  -dot_t1**2*s2 + dot_t1*dot_t2*l1*sin(t2) - g*cos(t1) - l1*(ddot_t1*cos(t2) - dot_t1*dot_t2*sin(t2)),  ]\n",
      " - F: Vector[\tm2*(-dot_t1**2*l1*cos(t2)**2 - dot_t2**2*l1 + (ddot_t1*s2 + g*sin(t1))*cos(t2)),  m2*(ddot_t2*l1 + dot_t1**2*l1*sin(2*t2)/2 - (ddot_t1*s2 + g*sin(t1))*sin(t2)),  m2*(-ddot_t1*l1*cos(t2) - dot_t1**2*s2 + 2*dot_t1*dot_t2*l1*sin(t2) - g*cos(t1)),  ]\n",
      " - N: Vector[\tI_xx2*(ddot_t1*sin(t2) + dot_t1*dot_t2*cos(t2)) - I_yy2*dot_t1*dot_t2*cos(t2) + I_zz2*dot_t1*dot_t2*cos(t2),  I_xx2*dot_t1*dot_t2*sin(t2) + I_yy2*(ddot_t1*cos(t2) - dot_t1*dot_t2*sin(t2)) - I_zz2*dot_t1*dot_t2*sin(t2),  -I_xx2*dot_t1**2*sin(t2)*cos(t2) + I_yy2*dot_t1**2*sin(t2)*cos(t2) + I_zz2*ddot_t2,  ]\n",
      "simplified 2:\n",
      " - dvc: Vector[\t-dot_t1**2*l1*cos(t2)**2 - dot_t2**2*l1 + (ddot_t1*s2 + g*sin(t1))*cos(t2),  ddot_t2*l1 + dot_t1**2*l1*sin(2*t2)/2 - (ddot_t1*s2 + g*sin(t1))*sin(t2),  -ddot_t1*l1*cos(t2) - dot_t1**2*s2 + 2*dot_t1*dot_t2*l1*sin(t2) - g*cos(t1),  ]\n",
      " - F: Vector[\t-m2*(dot_t1**2*l1*cos(t2)**2 + dot_t2**2*l1 - (ddot_t1*s2 + g*sin(t1))*cos(t2)),  m2*(2*ddot_t2*l1 + dot_t1**2*l1*sin(2*t2) - 2*(ddot_t1*s2 + g*sin(t1))*sin(t2))/2,  m2*(-ddot_t1*l1*cos(t2) - dot_t1**2*s2 + 2*dot_t1*dot_t2*l1*sin(t2) - g*cos(t1)),  ]\n",
      " - N: Vector[\tI_xx2*(ddot_t1*sin(t2) + dot_t1*dot_t2*cos(t2)) - I_yy2*dot_t1*dot_t2*cos(t2) + I_zz2*dot_t1*dot_t2*cos(t2),  I_xx2*dot_t1*dot_t2*sin(t2) + I_yy2*(ddot_t1*cos(t2) - dot_t1*dot_t2*sin(t2)) - I_zz2*dot_t1*dot_t2*sin(t2),  -I_xx2*dot_t1**2*sin(2*t2)/2 + I_yy2*dot_t1**2*sin(2*t2)/2 + I_zz2*ddot_t2,  ]\n",
      "\n",
      "joint 3:\n",
      " - w: Vector[\tdot_t1*sin(t2),  dot_t2,  -dot_t1*cos(t2),  ]\n",
      " - dw: Vector[\tddot_t1*sin(t2) + dot_t1*dot_t2*cos(t2),  ddot_t2,  -ddot_t1*cos(t2) + dot_t1*dot_t2*sin(t2),  ]\n",
      " - dv: Vector[\t-ddot_t2*(-d3 - l2) + 2*dot_d3*dot_t2 + dot_t1**2*(-d3 - l2)*sin(t2)*cos(t2) + (ddot_t1*s2 + g*sin(t1))*cos(t2),  -2*dot_d3*dot_t1*sin(t2) - dot_t1**2*s2 + dot_t1*dot_t2*(-d3 - l2)*cos(t2) - g*cos(t1) + (-d3 - l2)*(ddot_t1*sin(t2) + dot_t1*dot_t2*cos(t2)),  ddot_d3 + dot_t1**2*(-d3 - l2)*sin(t2)**2 + dot_t2**2*(-d3 - l2) + (ddot_t1*s2 + g*sin(t1))*sin(t2),  ]\n",
      "simplified 3:\n",
      " - w: Vector[\tdot_t1*sin(t2),  dot_t2,  -dot_t1*cos(t2),  ]\n",
      " - dw: Vector[\tddot_t1*sin(t2) + dot_t1*dot_t2*cos(t2),  ddot_t2,  -ddot_t1*cos(t2) + dot_t1*dot_t2*sin(t2),  ]\n",
      " - dv: Vector[\tddot_t2*(d3 + l2) + 2*dot_d3*dot_t2 - dot_t1**2*(d3 + l2)*sin(2*t2)/2 + (ddot_t1*s2 + g*sin(t1))*cos(t2),  -2*dot_d3*dot_t1*sin(t2) - dot_t1**2*s2 - dot_t1*dot_t2*(d3 + l2)*cos(t2) - g*cos(t1) - (d3 + l2)*(ddot_t1*sin(t2) + dot_t1*dot_t2*cos(t2)),  ddot_d3 - dot_t1**2*(d3 + l2)*sin(t2)**2 - dot_t2**2*(d3 + l2) + (ddot_t1*s2 + g*sin(t1))*sin(t2),  ]\n",
      "joint 3:\n",
      " - dvc: Vector[\tddot_t2*(d3 + l2) + 2*dot_d3*dot_t2 - dot_t1**2*(d3 + l2)*sin(2*t2)/2 + (ddot_t1*s2 + g*sin(t1))*cos(t2),  -2*dot_d3*dot_t1*sin(t2) - dot_t1**2*s2 - dot_t1*dot_t2*(d3 + l2)*cos(t2) - g*cos(t1) - (d3 + l2)*(ddot_t1*sin(t2) + dot_t1*dot_t2*cos(t2)),  ddot_d3 - dot_t1**2*(d3 + l2)*sin(t2)**2 - dot_t2**2*(d3 + l2) + (ddot_t1*s2 + g*sin(t1))*sin(t2),  ]\n",
      " - F: Vector[\tm3*(ddot_t2*(d3 + l2) + 2*dot_d3*dot_t2 - dot_t1**2*(d3 + l2)*sin(2*t2)/2 + (ddot_t1*s2 + g*sin(t1))*cos(t2)),  m3*(-2*dot_d3*dot_t1*sin(t2) - dot_t1**2*s2 - dot_t1*dot_t2*(d3 + l2)*cos(t2) - g*cos(t1) - (d3 + l2)*(ddot_t1*sin(t2) + dot_t1*dot_t2*cos(t2))),  m3*(ddot_d3 - dot_t1**2*(d3 + l2)*sin(t2)**2 - dot_t2**2*(d3 + l2) + (ddot_t1*s2 + g*sin(t1))*sin(t2)),  ]\n",
      " - N: Vector[\tI_xx3*(ddot_t1*sin(t2) + dot_t1*dot_t2*cos(t2)) + I_yy3*dot_t1*dot_t2*cos(t2) - I_zz3*dot_t1*dot_t2*cos(t2),  -I_xx3*dot_t1**2*sin(t2)*cos(t2) + I_yy3*ddot_t2 + I_zz3*dot_t1**2*sin(t2)*cos(t2),  -I_xx3*dot_t1*dot_t2*sin(t2) + I_yy3*dot_t1*dot_t2*sin(t2) + I_zz3*(-ddot_t1*cos(t2) + dot_t1*dot_t2*sin(t2)),  ]\n",
      "simplified 3:\n",
      " - dvc: Vector[\tddot_t2*(d3 + l2) + 2*dot_d3*dot_t2 - dot_t1**2*(d3 + l2)*sin(2*t2)/2 + (ddot_t1*s2 + g*sin(t1))*cos(t2),  -2*dot_d3*dot_t1*sin(t2) - dot_t1**2*s2 - dot_t1*dot_t2*(d3 + l2)*cos(t2) - g*cos(t1) - (d3 + l2)*(ddot_t1*sin(t2) + dot_t1*dot_t2*cos(t2)),  ddot_d3 - dot_t1**2*(d3 + l2)*sin(t2)**2 - dot_t2**2*(d3 + l2) + (ddot_t1*s2 + g*sin(t1))*sin(t2),  ]\n",
      " - F: Vector[\tm3*(2*ddot_t2*(d3 + l2) + 4*dot_d3*dot_t2 - dot_t1**2*(d3 + l2)*sin(2*t2) + 2*(ddot_t1*s2 + g*sin(t1))*cos(t2))/2,  -m3*(2*dot_d3*dot_t1*sin(t2) + dot_t1**2*s2 + dot_t1*dot_t2*(d3 + l2)*cos(t2) + g*cos(t1) + (d3 + l2)*(ddot_t1*sin(t2) + dot_t1*dot_t2*cos(t2))),  m3*(ddot_d3 - dot_t1**2*(d3 + l2)*sin(t2)**2 - dot_t2**2*(d3 + l2) + (ddot_t1*s2 + g*sin(t1))*sin(t2)),  ]\n",
      " - N: Vector[\tI_xx3*(ddot_t1*sin(t2) + dot_t1*dot_t2*cos(t2)) + I_yy3*dot_t1*dot_t2*cos(t2) - I_zz3*dot_t1*dot_t2*cos(t2),  -I_xx3*dot_t1**2*sin(2*t2)/2 + I_yy3*ddot_t2 + I_zz3*dot_t1**2*sin(2*t2)/2,  -I_xx3*dot_t1*dot_t2*sin(t2) + I_yy3*dot_t1*dot_t2*sin(t2) - I_zz3*(ddot_t1*cos(t2) - dot_t1*dot_t2*sin(t2)),  ]\n",
      "\n",
      "joint 4:\n",
      " - w: Vector[\tdot_t1*sin(t2),  dot_t2,  -dot_t1*cos(t2),  ]\n",
      " - dw: Vector[\tddot_t1*sin(t2) + dot_t1*dot_t2*cos(t2),  ddot_t2,  -ddot_t1*cos(t2) + dot_t1*dot_t2*sin(t2),  ]\n",
      " - dv: Vector[\tddot_t2*(d3 + l2) + 2*dot_d3*dot_t2 - dot_t1**2*(d3 + l2)*sin(2*t2)/2 + (ddot_t1*s2 + g*sin(t1))*cos(t2),  -2*dot_d3*dot_t1*sin(t2) - dot_t1**2*s2 - dot_t1*dot_t2*(d3 + l2)*cos(t2) - g*cos(t1) - (d3 + l2)*(ddot_t1*sin(t2) + dot_t1*dot_t2*cos(t2)),  ddot_d3 - dot_t1**2*(d3 + l2)*sin(t2)**2 - dot_t2**2*(d3 + l2) + (ddot_t1*s2 + g*sin(t1))*sin(t2),  ]\n",
      "simplified 4:\n",
      " - w: Vector[\tdot_t1*sin(t2),  dot_t2,  -dot_t1*cos(t2),  ]\n",
      " - dw: Vector[\tddot_t1*sin(t2) + dot_t1*dot_t2*cos(t2),  ddot_t2,  -ddot_t1*cos(t2) + dot_t1*dot_t2*sin(t2),  ]\n",
      " - dv: Vector[\tddot_t2*(d3 + l2) + 2*dot_d3*dot_t2 - dot_t1**2*(d3 + l2)*sin(2*t2)/2 + (ddot_t1*s2 + g*sin(t1))*cos(t2),  -2*dot_d3*dot_t1*sin(t2) - dot_t1**2*s2 - dot_t1*dot_t2*(d3 + l2)*cos(t2) - g*cos(t1) - (d3 + l2)*(ddot_t1*sin(t2) + dot_t1*dot_t2*cos(t2)),  ddot_d3 - dot_t1**2*(d3 + l2)*sin(t2)**2 - dot_t2**2*(d3 + l2) + (ddot_t1*s2 + g*sin(t1))*sin(t2),  ]\n",
      "\n",
      "\n",
      "\n",
      "----------------Backwards Newton Euler----------------\n",
      "\n",
      "\n",
      "joint 3:\n",
      " - f: Vector[\tm3*(2*ddot_t2*(d3 + l2) + 4*dot_d3*dot_t2 - dot_t1**2*(d3 + l2)*sin(2*t2) + 2*(ddot_t1*s2 + g*sin(t1))*cos(t2))/2,  -m3*(2*dot_d3*dot_t1*sin(t2) + dot_t1**2*s2 + dot_t1*dot_t2*(d3 + l2)*cos(t2) + g*cos(t1) + (d3 + l2)*(ddot_t1*sin(t2) + dot_t1*dot_t2*cos(t2))),  m3*(ddot_d3 - dot_t1**2*(d3 + l2)*sin(t2)**2 - dot_t2**2*(d3 + l2) + (ddot_t1*s2 + g*sin(t1))*sin(t2)),  ]\n",
      " - n: Vector[\tI_xx3*(ddot_t1*sin(t2) + dot_t1*dot_t2*cos(t2)) + I_yy3*dot_t1*dot_t2*cos(t2) - I_zz3*dot_t1*dot_t2*cos(t2),  -I_xx3*dot_t1**2*sin(2*t2)/2 + I_yy3*ddot_t2 + I_zz3*dot_t1**2*sin(2*t2)/2,  -I_xx3*dot_t1*dot_t2*sin(t2) + I_yy3*dot_t1*dot_t2*sin(t2) - I_zz3*(ddot_t1*cos(t2) - dot_t1*dot_t2*sin(t2)),  ]\n",
      " - tau: 1\n",
      "simplified 3:\n",
      " - f: Vector[\tm3*(2*ddot_t2*(d3 + l2) + 4*dot_d3*dot_t2 - dot_t1**2*(d3 + l2)*sin(2*t2) + 2*(ddot_t1*s2 + g*sin(t1))*cos(t2))/2,  -m3*(2*dot_d3*dot_t1*sin(t2) + dot_t1**2*s2 + dot_t1*dot_t2*(d3 + l2)*cos(t2) + g*cos(t1) + (d3 + l2)*(ddot_t1*sin(t2) + dot_t1*dot_t2*cos(t2))),  m3*(ddot_d3 - dot_t1**2*(d3 + l2)*sin(t2)**2 - dot_t2**2*(d3 + l2) + (ddot_t1*s2 + g*sin(t1))*sin(t2)),  ]\n",
      " - n: Vector[\tI_xx3*(ddot_t1*sin(t2) + dot_t1*dot_t2*cos(t2)) + I_yy3*dot_t1*dot_t2*cos(t2) - I_zz3*dot_t1*dot_t2*cos(t2),  -I_xx3*dot_t1**2*sin(2*t2)/2 + I_yy3*ddot_t2 + I_zz3*dot_t1**2*sin(2*t2)/2,  -I_xx3*dot_t1*dot_t2*sin(t2) + I_yy3*dot_t1*dot_t2*sin(t2) - I_zz3*(ddot_t1*cos(t2) - dot_t1*dot_t2*sin(t2)),  ]\n",
      " - tau: 1\n",
      "joint 2:\n",
      " - f: Vector[\t-m2*(dot_t1**2*l1*cos(t2)**2 + dot_t2**2*l1 - (ddot_t1*s2 + g*sin(t1))*cos(t2)) + m3*(2*ddot_t2*(d3 + l2) + 4*dot_d3*dot_t2 - dot_t1**2*(d3 + l2)*sin(2*t2) + 2*(ddot_t1*s2 + g*sin(t1))*cos(t2))/2,  m2*(2*ddot_t2*l1 + dot_t1**2*l1*sin(2*t2) - 2*(ddot_t1*s2 + g*sin(t1))*sin(t2))/2 - m3*(ddot_d3 - dot_t1**2*(d3 + l2)*sin(t2)**2 - dot_t2**2*(d3 + l2) + (ddot_t1*s2 + g*sin(t1))*sin(t2)),  m2*(-ddot_t1*l1*cos(t2) - dot_t1**2*s2 + 2*dot_t1*dot_t2*l1*sin(t2) - g*cos(t1)) - m3*(2*dot_d3*dot_t1*sin(t2) + dot_t1**2*s2 + dot_t1*dot_t2*(d3 + l2)*cos(t2) + g*cos(t1) + (d3 + l2)*(ddot_t1*sin(t2) + dot_t1*dot_t2*cos(t2))),  ]\n",
      " - n: Vector[\tI_xx2*(ddot_t1*sin(t2) + dot_t1*dot_t2*cos(t2)) + I_xx3*(ddot_t1*sin(t2) + dot_t1*dot_t2*cos(t2)) - I_yy2*dot_t1*dot_t2*cos(t2) + I_yy3*dot_t1*dot_t2*cos(t2) + I_zz2*dot_t1*dot_t2*cos(t2) - I_zz3*dot_t1*dot_t2*cos(t2) - m3*(-d3 - l2)*(2*dot_d3*dot_t1*sin(t2) + dot_t1**2*s2 + dot_t1*dot_t2*(d3 + l2)*cos(t2) + g*cos(t1) + (d3 + l2)*(ddot_t1*sin(t2) + dot_t1*dot_t2*cos(t2))),  I_xx2*dot_t1*dot_t2*sin(t2) + I_xx3*dot_t1*dot_t2*sin(t2) + I_yy2*(ddot_t1*cos(t2) - dot_t1*dot_t2*sin(t2)) - I_yy3*dot_t1*dot_t2*sin(t2) - I_zz2*dot_t1*dot_t2*sin(t2) + I_zz3*(ddot_t1*cos(t2) - dot_t1*dot_t2*sin(t2)) - l1*m2*(-ddot_t1*l1*cos(t2) - dot_t1**2*s2 + 2*dot_t1*dot_t2*l1*sin(t2) - g*cos(t1)),  -I_xx2*dot_t1**2*sin(2*t2)/2 - I_xx3*dot_t1**2*sin(2*t2)/2 + I_yy2*dot_t1**2*sin(2*t2)/2 + I_yy3*ddot_t2 + I_zz2*ddot_t2 + I_zz3*dot_t1**2*sin(2*t2)/2 + l1*m2*(2*ddot_t2*l1 + dot_t1**2*l1*sin(2*t2) - 2*(ddot_t1*s2 + g*sin(t1))*sin(t2))/2 - m3*(-d3 - l2)*(2*ddot_t2*(d3 + l2) + 4*dot_d3*dot_t2 - dot_t1**2*(d3 + l2)*sin(2*t2) + 2*(ddot_t1*s2 + g*sin(t1))*cos(t2))/2,  ]\n",
      " - tau: 1\n",
      "simplified 2:\n",
      " - f: Vector[\t-m2*(dot_t1**2*l1*cos(t2)**2 + dot_t2**2*l1 - (ddot_t1*s2 + g*sin(t1))*cos(t2)) + m3*(2*ddot_t2*(d3 + l2) + 4*dot_d3*dot_t2 - dot_t1**2*(d3 + l2)*sin(2*t2) + 2*(ddot_t1*s2 + g*sin(t1))*cos(t2))/2,  m2*(2*ddot_t2*l1 + dot_t1**2*l1*sin(2*t2) - 2*(ddot_t1*s2 + g*sin(t1))*sin(t2))/2 - m3*(ddot_d3 - dot_t1**2*(d3 + l2)*sin(t2)**2 - dot_t2**2*(d3 + l2) + (ddot_t1*s2 + g*sin(t1))*sin(t2)),  -m2*(ddot_t1*l1*cos(t2) + dot_t1**2*s2 - 2*dot_t1*dot_t2*l1*sin(t2) + g*cos(t1)) - m3*(2*dot_d3*dot_t1*sin(t2) + dot_t1**2*s2 + dot_t1*dot_t2*(d3 + l2)*cos(t2) + g*cos(t1) + (d3 + l2)*(ddot_t1*sin(t2) + dot_t1*dot_t2*cos(t2))),  ]\n",
      " - n: Vector[\tI_xx2*(ddot_t1*sin(t2) + dot_t1*dot_t2*cos(t2)) + I_xx3*(ddot_t1*sin(t2) + dot_t1*dot_t2*cos(t2)) - I_yy2*dot_t1*dot_t2*cos(t2) + I_yy3*dot_t1*dot_t2*cos(t2) + I_zz2*dot_t1*dot_t2*cos(t2) - I_zz3*dot_t1*dot_t2*cos(t2) + m3*(d3 + l2)*(2*dot_d3*dot_t1*sin(t2) + dot_t1**2*s2 + dot_t1*dot_t2*(d3 + l2)*cos(t2) + g*cos(t1) + (d3 + l2)*(ddot_t1*sin(t2) + dot_t1*dot_t2*cos(t2))),  I_xx2*dot_t1*dot_t2*sin(t2) + I_xx3*dot_t1*dot_t2*sin(t2) + I_yy2*(ddot_t1*cos(t2) - dot_t1*dot_t2*sin(t2)) - I_yy3*dot_t1*dot_t2*sin(t2) - I_zz2*dot_t1*dot_t2*sin(t2) + I_zz3*(ddot_t1*cos(t2) - dot_t1*dot_t2*sin(t2)) + l1*m2*(ddot_t1*l1*cos(t2) + dot_t1**2*s2 - 2*dot_t1*dot_t2*l1*sin(t2) + g*cos(t1)),  -I_xx2*dot_t1**2*sin(2*t2)/2 - I_xx3*dot_t1**2*sin(2*t2)/2 + I_yy2*dot_t1**2*sin(2*t2)/2 + I_yy3*ddot_t2 + I_zz2*ddot_t2 + I_zz3*dot_t1**2*sin(2*t2)/2 + l1*m2*(2*ddot_t2*l1 + dot_t1**2*l1*sin(2*t2) - 2*(ddot_t1*s2 + g*sin(t1))*sin(t2))/2 + m3*(d3 + l2)*(2*ddot_t2*(d3 + l2) + 4*dot_d3*dot_t2 - dot_t1**2*(d3 + l2)*sin(2*t2) + 2*(ddot_t1*s2 + g*sin(t1))*cos(t2))/2,  ]\n",
      " - tau: 1\n",
      "joint 1:\n",
      " - f: Vector[\tg*m1*sin(t1) - (m2*(2*ddot_t2*l1 + dot_t1**2*l1*sin(2*t2) - 2*(ddot_t1*s2 + g*sin(t1))*sin(t2))/2 - m3*(ddot_d3 - dot_t1**2*(d3 + l2)*sin(t2)**2 - dot_t2**2*(d3 + l2) + (ddot_t1*s2 + g*sin(t1))*sin(t2)))*sin(t2) + (-m2*(dot_t1**2*l1*cos(t2)**2 + dot_t2**2*l1 - (ddot_t1*s2 + g*sin(t1))*cos(t2)) + m3*(2*ddot_t2*(d3 + l2) + 4*dot_d3*dot_t2 - dot_t1**2*(d3 + l2)*sin(2*t2) + 2*(ddot_t1*s2 + g*sin(t1))*cos(t2))/2)*cos(t2),  g*m1*cos(t1) + m2*(ddot_t1*l1*cos(t2) + dot_t1**2*s2 - 2*dot_t1*dot_t2*l1*sin(t2) + g*cos(t1)) + m3*(2*dot_d3*dot_t1*sin(t2) + dot_t1**2*s2 + dot_t1*dot_t2*(d3 + l2)*cos(t2) + g*cos(t1) + (d3 + l2)*(ddot_t1*sin(t2) + dot_t1*dot_t2*cos(t2))),  (m2*(2*ddot_t2*l1 + dot_t1**2*l1*sin(2*t2) - 2*(ddot_t1*s2 + g*sin(t1))*sin(t2))/2 - m3*(ddot_d3 - dot_t1**2*(d3 + l2)*sin(t2)**2 - dot_t2**2*(d3 + l2) + (ddot_t1*s2 + g*sin(t1))*sin(t2)))*cos(t2) + (-m2*(dot_t1**2*l1*cos(t2)**2 + dot_t2**2*l1 - (ddot_t1*s2 + g*sin(t1))*cos(t2)) + m3*(2*ddot_t2*(d3 + l2) + 4*dot_d3*dot_t2 - dot_t1**2*(d3 + l2)*sin(2*t2) + 2*(ddot_t1*s2 + g*sin(t1))*cos(t2))/2)*sin(t2),  ]\n",
      " - n: Vector[\t-s2*((m2*(2*ddot_t2*l1 + dot_t1**2*l1*sin(2*t2) - 2*(ddot_t1*s2 + g*sin(t1))*sin(t2))/2 - m3*(ddot_d3 - dot_t1**2*(d3 + l2)*sin(t2)**2 - dot_t2**2*(d3 + l2) + (ddot_t1*s2 + g*sin(t1))*sin(t2)))*cos(t2) + (-m2*(dot_t1**2*l1*cos(t2)**2 + dot_t2**2*l1 - (ddot_t1*s2 + g*sin(t1))*cos(t2)) + m3*(2*ddot_t2*(d3 + l2) + 4*dot_d3*dot_t2 - dot_t1**2*(d3 + l2)*sin(2*t2) + 2*(ddot_t1*s2 + g*sin(t1))*cos(t2))/2)*sin(t2)) + (I_xx2*(ddot_t1*sin(t2) + dot_t1*dot_t2*cos(t2)) + I_xx3*(ddot_t1*sin(t2) + dot_t1*dot_t2*cos(t2)) - I_yy2*dot_t1*dot_t2*cos(t2) + I_yy3*dot_t1*dot_t2*cos(t2) + I_zz2*dot_t1*dot_t2*cos(t2) - I_zz3*dot_t1*dot_t2*cos(t2) + m3*(d3 + l2)*(2*dot_d3*dot_t1*sin(t2) + dot_t1**2*s2 + dot_t1*dot_t2*(d3 + l2)*cos(t2) + g*cos(t1) + (d3 + l2)*(ddot_t1*sin(t2) + dot_t1*dot_t2*cos(t2))))*cos(t2) - (I_xx2*dot_t1*dot_t2*sin(t2) + I_xx3*dot_t1*dot_t2*sin(t2) + I_yy2*(ddot_t1*cos(t2) - dot_t1*dot_t2*sin(t2)) - I_yy3*dot_t1*dot_t2*sin(t2) - I_zz2*dot_t1*dot_t2*sin(t2) + I_zz3*(ddot_t1*cos(t2) - dot_t1*dot_t2*sin(t2)) + l1*m2*(ddot_t1*l1*cos(t2) + dot_t1**2*s2 - 2*dot_t1*dot_t2*l1*sin(t2) + g*cos(t1)))*sin(t2),  I_xx2*dot_t1**2*sin(2*t2)/2 + I_xx3*dot_t1**2*sin(2*t2)/2 - I_yy2*dot_t1**2*sin(2*t2)/2 - I_yy3*ddot_t2 - I_zz2*ddot_t2 - I_zz3*dot_t1**2*sin(2*t2)/2 - l1*m2*(2*ddot_t2*l1 + dot_t1**2*l1*sin(2*t2) - 2*(ddot_t1*s2 + g*sin(t1))*sin(t2))/2 - m3*(d3 + l2)*(2*ddot_t2*(d3 + l2) + 4*dot_d3*dot_t2 - dot_t1**2*(d3 + l2)*sin(2*t2) + 2*(ddot_t1*s2 + g*sin(t1))*cos(t2))/2,  I_zz1*ddot_t1 + s2*(-(m2*(2*ddot_t2*l1 + dot_t1**2*l1*sin(2*t2) - 2*(ddot_t1*s2 + g*sin(t1))*sin(t2))/2 - m3*(ddot_d3 - dot_t1**2*(d3 + l2)*sin(t2)**2 - dot_t2**2*(d3 + l2) + (ddot_t1*s2 + g*sin(t1))*sin(t2)))*sin(t2) + (-m2*(dot_t1**2*l1*cos(t2)**2 + dot_t2**2*l1 - (ddot_t1*s2 + g*sin(t1))*cos(t2)) + m3*(2*ddot_t2*(d3 + l2) + 4*dot_d3*dot_t2 - dot_t1**2*(d3 + l2)*sin(2*t2) + 2*(ddot_t1*s2 + g*sin(t1))*cos(t2))/2)*cos(t2)) + (I_xx2*(ddot_t1*sin(t2) + dot_t1*dot_t2*cos(t2)) + I_xx3*(ddot_t1*sin(t2) + dot_t1*dot_t2*cos(t2)) - I_yy2*dot_t1*dot_t2*cos(t2) + I_yy3*dot_t1*dot_t2*cos(t2) + I_zz2*dot_t1*dot_t2*cos(t2) - I_zz3*dot_t1*dot_t2*cos(t2) + m3*(d3 + l2)*(2*dot_d3*dot_t1*sin(t2) + dot_t1**2*s2 + dot_t1*dot_t2*(d3 + l2)*cos(t2) + g*cos(t1) + (d3 + l2)*(ddot_t1*sin(t2) + dot_t1*dot_t2*cos(t2))))*sin(t2) + (I_xx2*dot_t1*dot_t2*sin(t2) + I_xx3*dot_t1*dot_t2*sin(t2) + I_yy2*(ddot_t1*cos(t2) - dot_t1*dot_t2*sin(t2)) - I_yy3*dot_t1*dot_t2*sin(t2) - I_zz2*dot_t1*dot_t2*sin(t2) + I_zz3*(ddot_t1*cos(t2) - dot_t1*dot_t2*sin(t2)) + l1*m2*(ddot_t1*l1*cos(t2) + dot_t1**2*s2 - 2*dot_t1*dot_t2*l1*sin(t2) + g*cos(t1)))*cos(t2),  ]\n",
      " - tau: 1\n",
      "simplified 1:\n",
      " - f: Vector[\td3*ddot_t2*m3*cos(t2) - d3*dot_t1**2*m3*sin(t2) - d3*dot_t2**2*m3*sin(t2) + ddot_d3*m3*sin(t2) + ddot_t1*m2*s2 + ddot_t1*m3*s2 - ddot_t2*l1*m2*sin(t2) + ddot_t2*l2*m3*cos(t2) + 2*dot_d3*dot_t2*m3*cos(t2) - dot_t1**2*l1*m2*cos(t2) - dot_t1**2*l2*m3*sin(t2) - dot_t2**2*l1*m2*cos(t2) - dot_t2**2*l2*m3*sin(t2) + g*m1*sin(t1) + g*m2*sin(t1) + g*m3*sin(t1),  g*m1*cos(t1) + m2*(ddot_t1*l1*cos(t2) + dot_t1**2*s2 - 2*dot_t1*dot_t2*l1*sin(t2) + g*cos(t1)) + m3*(2*dot_d3*dot_t1*sin(t2) + dot_t1**2*s2 + dot_t1*dot_t2*(d3 + l2)*cos(t2) + g*cos(t1) + (d3 + l2)*(ddot_t1*sin(t2) + dot_t1*dot_t2*cos(t2))),  d3*ddot_t2*m3*sin(t2) + d3*dot_t2**2*m3*cos(t2) - ddot_d3*m3*cos(t2) + ddot_t2*l1*m2*cos(t2) + ddot_t2*l2*m3*sin(t2) + 2*dot_d3*dot_t2*m3*sin(t2) - dot_t2**2*l1*m2*sin(t2) + dot_t2**2*l2*m3*cos(t2),  ]\n",
      " - n: Vector[\t-s2*(d3*ddot_t2*m3*sin(t2) + d3*dot_t2**2*m3*cos(t2) - ddot_d3*m3*cos(t2) + ddot_t2*l1*m2*cos(t2) + ddot_t2*l2*m3*sin(t2) + 2*dot_d3*dot_t2*m3*sin(t2) - dot_t2**2*l1*m2*sin(t2) + dot_t2**2*l2*m3*cos(t2)) + (I_xx2*(ddot_t1*sin(t2) + dot_t1*dot_t2*cos(t2)) + I_xx3*(ddot_t1*sin(t2) + dot_t1*dot_t2*cos(t2)) - I_yy2*dot_t1*dot_t2*cos(t2) + I_yy3*dot_t1*dot_t2*cos(t2) + I_zz2*dot_t1*dot_t2*cos(t2) - I_zz3*dot_t1*dot_t2*cos(t2) + m3*(d3 + l2)*(2*dot_d3*dot_t1*sin(t2) + dot_t1**2*s2 + dot_t1*dot_t2*(d3 + l2)*cos(t2) + g*cos(t1) + (d3 + l2)*(ddot_t1*sin(t2) + dot_t1*dot_t2*cos(t2))))*cos(t2) - (I_xx2*dot_t1*dot_t2*sin(t2) + I_xx3*dot_t1*dot_t2*sin(t2) + I_yy2*(ddot_t1*cos(t2) - dot_t1*dot_t2*sin(t2)) - I_yy3*dot_t1*dot_t2*sin(t2) - I_zz2*dot_t1*dot_t2*sin(t2) + I_zz3*(ddot_t1*cos(t2) - dot_t1*dot_t2*sin(t2)) + l1*m2*(ddot_t1*l1*cos(t2) + dot_t1**2*s2 - 2*dot_t1*dot_t2*l1*sin(t2) + g*cos(t1)))*sin(t2),  I_xx2*dot_t1**2*sin(2*t2)/2 + I_xx3*dot_t1**2*sin(2*t2)/2 - I_yy2*dot_t1**2*sin(2*t2)/2 - I_yy3*ddot_t2 - I_zz2*ddot_t2 - I_zz3*dot_t1**2*sin(2*t2)/2 - l1*m2*(2*ddot_t2*l1 + dot_t1**2*l1*sin(2*t2) - 2*(ddot_t1*s2 + g*sin(t1))*sin(t2))/2 - m3*(d3 + l2)*(2*ddot_t2*(d3 + l2) + 4*dot_d3*dot_t2 - dot_t1**2*(d3 + l2)*sin(2*t2) + 2*(ddot_t1*s2 + g*sin(t1))*cos(t2))/2,  -I_xx2*ddot_t1*cos(2*t2)/2 + I_xx2*ddot_t1/2 + I_xx2*dot_t1*dot_t2*sin(2*t2) - I_xx3*ddot_t1*cos(2*t2)/2 + I_xx3*ddot_t1/2 + I_xx3*dot_t1*dot_t2*sin(2*t2) + I_yy2*ddot_t1*cos(2*t2)/2 + I_yy2*ddot_t1/2 - I_yy2*dot_t1*dot_t2*sin(2*t2) + I_zz1*ddot_t1 + I_zz3*ddot_t1*cos(2*t2)/2 + I_zz3*ddot_t1/2 - I_zz3*dot_t1*dot_t2*sin(2*t2) - d3**2*ddot_t1*m3*cos(2*t2)/2 + d3**2*ddot_t1*m3/2 + d3**2*dot_t1*dot_t2*m3*sin(2*t2) - d3*ddot_t1*l2*m3*cos(2*t2) + d3*ddot_t1*l2*m3 + d3*ddot_t2*m3*s2*cos(t2) - d3*dot_d3*dot_t1*m3*cos(2*t2) + d3*dot_d3*dot_t1*m3 + 2*d3*dot_t1*dot_t2*l2*m3*sin(2*t2) - d3*dot_t2**2*m3*s2*sin(t2) - d3*g*m3*sin(t1 - t2)/2 + d3*g*m3*sin(t1 + t2)/2 + ddot_d3*m3*s2*sin(t2) + ddot_t1*l1**2*m2*cos(2*t2)/2 + ddot_t1*l1**2*m2/2 - ddot_t1*l2**2*m3*cos(2*t2)/2 + ddot_t1*l2**2*m3/2 + ddot_t1*m2*s2**2 + ddot_t1*m3*s2**2 - ddot_t2*l1*m2*s2*sin(t2) + ddot_t2*l2*m3*s2*cos(t2) - dot_d3*dot_t1*l2*m3*cos(2*t2) + dot_d3*dot_t1*l2*m3 + 2*dot_d3*dot_t2*m3*s2*cos(t2) - dot_t1*dot_t2*l1**2*m2*sin(2*t2) + dot_t1*dot_t2*l2**2*m3*sin(2*t2) - dot_t2**2*l1*m2*s2*cos(t2) - dot_t2**2*l2*m3*s2*sin(t2) + g*l1*m2*cos(t1 - t2)/2 + g*l1*m2*cos(t1 + t2)/2 - g*l2*m3*sin(t1 - t2)/2 + g*l2*m3*sin(t1 + t2)/2 + g*m2*s2*sin(t1) + g*m3*s2*sin(t1),  ]\n",
      " - tau: 1\n"
     ]
    }
   ],
   "source": [
    "# calculate dynamic newton euler kinematics\n",
    "# define center of mass points for each joint\n",
    "cof_points = [Vector([0, 0, 0]), Vector([l1 , 0, 0]), Vector([0, 0, 0])]\n",
    "robot.add_cof(cof_points)\n",
    "# run calculation of newton euler\n",
    "stuff = robot.cal_newton_euler(True, True, Vector([0, g, 0]))"
   ]
  },
  {
   "cell_type": "code",
   "execution_count": 27,
   "metadata": {},
   "outputs": [
    {
     "name": "stdout",
     "output_type": "stream",
     "text": [
      "Vector[\tddot_d3*sin(t2)*cos(t1),  ddot_d3*sin(t1)*sin(t2),  -ddot_d3*cos(t2),  ]\n"
     ]
    }
   ],
   "source": [
    "# translate vector from specific frame\n",
    "robot.transform_to_zero_from_i(Vector([0, 0, 0, 1]), 4).simplify()\n",
    "# rotate vector from specific frame\n",
    "print(robot.rotate_to_zero_from_i(Vector([0, 0, symbols('ddot_d3')]), 3).simplify())"
   ]
  },
  {
   "cell_type": "code",
   "execution_count": null,
   "metadata": {},
   "outputs": [],
   "source": []
  }
 ],
 "metadata": {
  "kernelspec": {
   "display_name": "Python 3",
   "language": "python",
   "name": "python3"
  },
  "language_info": {
   "codemirror_mode": {
    "name": "ipython",
    "version": 3
   },
   "file_extension": ".py",
   "mimetype": "text/x-python",
   "name": "python",
   "nbconvert_exporter": "python",
   "pygments_lexer": "ipython3",
   "version": "3.7.3"
  }
 },
 "nbformat": 4,
 "nbformat_minor": 4
}