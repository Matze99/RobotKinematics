{
 "cells": [
  {
   "cell_type": "code",
   "execution_count": 1,
   "metadata": {},
   "outputs": [],
   "source": [
    "from sympy import symbols, pi\n",
    "\n",
    "from robot import Robot, JointType\n",
    "\n",
    "from math_utils import Vector, Matrix"
   ]
  },
  {
   "cell_type": "code",
   "execution_count": 3,
   "metadata": {},
   "outputs": [],
   "source": [
    "d1, d2, d3, d4 = symbols('d1 d2 d3 d4')\n",
    "t1, t2, t3, t4 = symbols('t1 t2 t3 t4')\n",
    "l1, l2, l3, l4 = symbols('l1 l2 l3 l4')\n",
    "g = symbols('g')"
   ]
  },
  {
   "cell_type": "code",
   "execution_count": 4,
   "metadata": {},
   "outputs": [],
   "source": [
    "dh = [\n",
    "    [0, 0, 0, t1],\n",
    "    [l1, pi/2, 0, t2],\n",
    "    [l2,0,0,t3],\n",
    "    [l3, 0, 0, 0]\n",
    "]\n",
    "\n",
    "robot = Robot.from_dh_parameters(dh, '3r')"
   ]
  },
  {
   "cell_type": "code",
   "execution_count": null,
   "metadata": {},
   "outputs": [],
   "source": [
    "# print Transformations\n",
    "robot.get_transformations()"
   ]
  },
  {
   "cell_type": "code",
   "execution_count": null,
   "metadata": {},
   "outputs": [],
   "source": [
    "# print Rotations\n",
    "robot.get_rotations()"
   ]
  },
  {
   "cell_type": "code",
   "execution_count": 6,
   "metadata": {},
   "outputs": [],
   "source": [
    "# end-effector position in zero frame\n",
    "p_e = (robot.get_end_transformation() @ Vector([0, 0, 0, 1])).simplify()"
   ]
  },
  {
   "cell_type": "code",
   "execution_count": null,
   "metadata": {},
   "outputs": [],
   "source": [
    "# get/ print Z axis in zero fram\n",
    "axis = robot.get_zero_Z_axis(True)"
   ]
  },
  {
   "cell_type": "code",
   "execution_count": null,
   "metadata": {},
   "outputs": [],
   "source": [
    "# calculate velocities\n",
    "ws, vs = robot.cal_velocities(True)"
   ]
  },
  {
   "cell_type": "code",
   "execution_count": null,
   "metadata": {},
   "outputs": [],
   "source": [
    "# calculate static kinematics\n",
    "ws, vs, fs, ns, ts = robot.cal_static_kinematics(True, True)"
   ]
  },
  {
   "cell_type": "code",
   "execution_count": null,
   "metadata": {},
   "outputs": [],
   "source": [
    "# calculate dynamic newton euler kinematics\n",
    "# define center of mass points for each joint\n",
    "cof_points = [Vector([0, 0, 0]), Vector([l1 , 0, 0]), Vector([0, 0, 0])]\n",
    "robot.add_cof(cof_points)\n",
    "# run calculation of newton euler\n",
    "stuff = robot.cal_newton_euler(True, True, Vector([0, g, 0]))"
   ]
  },
  {
   "cell_type": "code",
   "execution_count": 8,
   "metadata": {},
   "outputs": [
    {
     "data": {
      "text/plain": [
       "<math_utils.Vector at 0x7f7bca8892e8>"
      ]
     },
     "execution_count": 8,
     "metadata": {},
     "output_type": "execute_result"
    }
   ],
   "source": [
    "# translate vector from specific frame\n",
    "robot.transform_to_zero_from_i(Vector([0, 0, 0, 1]), 4).simplify()\n",
    "# rotate vector from specific frame\n",
    "robot.rotate_to_zero_from_i(Vector([0, 0, 1]), 4).simplify()"
   ]
  },
  {
   "cell_type": "code",
   "execution_count": null,
   "metadata": {},
   "outputs": [],
   "source": []
  }
 ],
 "metadata": {
  "kernelspec": {
   "display_name": "Python 3",
   "language": "python",
   "name": "python3"
  },
  "language_info": {
   "codemirror_mode": {
    "name": "ipython",
    "version": 3
   },
   "file_extension": ".py",
   "mimetype": "text/x-python",
   "name": "python",
   "nbconvert_exporter": "python",
   "pygments_lexer": "ipython3",
   "version": "3.7.3"
  }
 },
 "nbformat": 4,
 "nbformat_minor": 4
}