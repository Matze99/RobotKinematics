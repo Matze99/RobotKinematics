{
 "cells": [
  {
   "cell_type": "markdown",
   "metadata": {},
   "source": [
    "# Introduction\n",
    "\n",
    "In this tutorial series, the `RobotKinematics` package will be introduced. This package was build for the portfolio of me, Matthias Hamacher. It uses `sympy` to calculate the kinematics symbolically. \n",
    "\n",
    "In this instance of the series, I will introduce how a robot can be defined and how the custom matrix and vector classes work."
   ]
  },
  {
   "cell_type": "markdown",
   "metadata": {},
   "source": [
    "# Turorial"
   ]
  },
  {
   "cell_type": "code",
   "execution_count": 1,
   "metadata": {},
   "outputs": [],
   "source": [
    "from sympy import symbols, pi\n",
    "\n",
    "from robot import Robot, JointType\n",
    "\n",
    "from math_utils import Vector, Matrix"
   ]
  },
  {
   "cell_type": "markdown",
   "metadata": {},
   "source": [
    "## 1) Variable Initialization\n",
    "\n",
    "First, we need to define the variables that we will later use to define our robot. Generally, each robot has at least one control variable per link. There may be additional variables that define the length between certain links. \n",
    "\n",
    "Since the code for the kinematics calculations creates own variables for the derivative, it is beneficial to use a common convention for the naming of the variables. Each prismatic joint is assinged a variable di and each rotational the variable ti (short for thetai). The i is substituted for the number of the joint, e.g. a RPRP robot has the variables t1, d2, t3, and d4."
   ]
  },
  {
   "cell_type": "code",
   "execution_count": 2,
   "metadata": {},
   "outputs": [],
   "source": [
    "d1, d2, d3, d4 = symbols('d1 d2 d3 d4')\n",
    "t1, t2, t3, t4 = symbols('t1 t2 t3 t4')\n",
    "l1, l2, l3, l4 = symbols('l1 l2 l3 l4')"
   ]
  },
  {
   "cell_type": "markdown",
   "metadata": {},
   "source": [
    "## 2) Robot Initialization\n",
    "\n",
    "Now, we can define the robot with the previously intialized variables. A robot is initialized with a list of joints. Since it is annoying to define each joint individually, the `Robot.from_dh_parameters()` function will be used to build a robot from DH parameters. \n",
    "\n",
    "To define the DH-parameters of an $N$-joint robot, an matrix with four columns and $N+1$ rows has to be defined. The last row is needed for the end-effector frame. If the end-effector coincides with the last joint frame, the last row can all be zeros.\n",
    "\n",
    "Each row $i$ has to be filled with the following parameters: [$a_{i-1}$, $\\alpha_{i-1}$, $d_i$, $\\theta_i$]. \n",
    "If parameters in a row are set to defined angles, be sure to use radians \n",
    "\n",
    "Below we define a 3R robot. "
   ]
  },
  {
   "cell_type": "code",
   "execution_count": 3,
   "metadata": {},
   "outputs": [],
   "source": [
    "dh = [\n",
    "    [0, 0, 0, t1],\n",
    "    [l1, pi/2, 0, t2],\n",
    "    [l2,0,0,t3],\n",
    "    [l3, 0, 0, 0]\n",
    "]"
   ]
  },
  {
   "cell_type": "markdown",
   "metadata": {},
   "source": [
    "After having defined the DH-parameters, we can simply call the `Robot.from_dh_parameters()` function. This function needs two other parameters: a list of joint types, and a list of control variables. \n",
    "\n",
    "The control variables are not used in the current implimentation and can be set to `None`. The list of joint types are needed. There are four joint types: `BASE`, `PRISMATIC`, `ROTATIONAL`, and `END_EFFECTOR`. Each robot automatically has a `BASE` joint as the first joint. This joint has no rotation, translation, or other parameters and serves as the world coordinate frame. The `END_EFFECTOR` is similar, but at the end. If you want to have a end-effector frame, add a last row in the dh parameters without any control variables (in the example above that has been done). \n",
    "\n",
    "Since the base joint and the end-effector are automatically defined, only the prismatic and rotational joint types have to be set"
   ]
  },
  {
   "cell_type": "code",
   "execution_count": 5,
   "metadata": {},
   "outputs": [
    {
     "name": "stdout",
     "output_type": "stream",
     "text": [
      "Robot[\n",
      " - BASE joint\t [a: 0.0, alpha: 0.0, d: 0, theta: 0]\n",
      " - ROTATIONAL joint\t [a: 0, alpha: 0, d: 0, theta: t1]\n",
      " - ROTATIONAL joint\t [a: l1, alpha: pi/2, d: 0, theta: t2]\n",
      " - ROTATIONAL joint\t [a: l2, alpha: 0, d: 0, theta: t3]\n",
      " - END_EFFECTOR\t [a: l3, alpha: 0, d: 0, theta: 0]\n",
      "]\n"
     ]
    }
   ],
   "source": [
    "robot = Robot.from_dh_parameters(dh, [JointType.ROTATIONAL, JointType.ROTATIONAL, JointType.ROTATIONAL])\n",
    "\n",
    "print(robot)"
   ]
  },
  {
   "cell_type": "markdown",
   "metadata": {},
   "source": [
    "It quickly becomes quite annoying to set the joint types in such a way. Therefore, two simplifications can be done. \n",
    "\n",
    "Since all joints are of the same type in our example, we can only pass the joint type to the function and it will work the same way."
   ]
  },
  {
   "cell_type": "code",
   "execution_count": 6,
   "metadata": {},
   "outputs": [
    {
     "name": "stdout",
     "output_type": "stream",
     "text": [
      "Robot[\n",
      " - BASE joint\t [a: 0.0, alpha: 0.0, d: 0, theta: 0]\n",
      " - ROTATIONAL joint\t [a: 0, alpha: 0, d: 0, theta: t1]\n",
      " - ROTATIONAL joint\t [a: l1, alpha: pi/2, d: 0, theta: t2]\n",
      " - ROTATIONAL joint\t [a: l2, alpha: 0, d: 0, theta: t3]\n",
      " - END_EFFECTOR\t [a: l3, alpha: 0, d: 0, theta: 0]\n",
      "]\n"
     ]
    }
   ],
   "source": [
    "robot = Robot.from_dh_parameters(dh, JointType.ROTATIONAL)\n",
    "\n",
    "print(robot)"
   ]
  },
  {
   "cell_type": "markdown",
   "metadata": {},
   "source": [
    "As you can see, the two robots are exactly the same. \n",
    "\n",
    "While this works well for robots with a uniform joint type, it does not work for other more complex robots. There is another simplification that works well for every robot. We can also define the types with a string. "
   ]
  },
  {
   "cell_type": "code",
   "execution_count": 7,
   "metadata": {},
   "outputs": [
    {
     "name": "stdout",
     "output_type": "stream",
     "text": [
      "Robot[\n",
      " - BASE joint\t [a: 0.0, alpha: 0.0, d: 0, theta: 0]\n",
      " - ROTATIONAL joint\t [a: 0, alpha: 0, d: 0, theta: t1]\n",
      " - ROTATIONAL joint\t [a: l1, alpha: pi/2, d: 0, theta: t2]\n",
      " - ROTATIONAL joint\t [a: l2, alpha: 0, d: 0, theta: t3]\n",
      " - END_EFFECTOR\t [a: l3, alpha: 0, d: 0, theta: 0]\n",
      "]\n"
     ]
    }
   ],
   "source": [
    "robot = Robot.from_dh_parameters(dh, 'RRR')\n",
    "\n",
    "print(robot)"
   ]
  },
  {
   "cell_type": "markdown",
   "metadata": {},
   "source": [
    "Each rotational joint is specified by an `R` and a prismatic joint by a `P` (the capitalization is not important). We can also use numbers followed by a letter to describe multiple joints of the same type in a row. "
   ]
  },
  {
   "cell_type": "code",
   "execution_count": 8,
   "metadata": {},
   "outputs": [
    {
     "name": "stdout",
     "output_type": "stream",
     "text": [
      "Robot[\n",
      " - BASE joint\t [a: 0.0, alpha: 0.0, d: 0, theta: 0]\n",
      " - ROTATIONAL joint\t [a: 0, alpha: 0, d: 0, theta: t1]\n",
      " - ROTATIONAL joint\t [a: l1, alpha: pi/2, d: 0, theta: t2]\n",
      " - ROTATIONAL joint\t [a: l2, alpha: 0, d: 0, theta: t3]\n",
      " - END_EFFECTOR\t [a: l3, alpha: 0, d: 0, theta: 0]\n",
      "]\n"
     ]
    }
   ],
   "source": [
    "robot = Robot.from_dh_parameters(dh, '3r')\n",
    "\n",
    "print(robot)"
   ]
  },
  {
   "cell_type": "markdown",
   "metadata": {},
   "source": [
    "## 3) Matrices and Vectors\n",
    "\n",
    "TODO"
   ]
  },
  {
   "cell_type": "code",
   "execution_count": null,
   "metadata": {},
   "outputs": [],
   "source": []
  }
 ],
 "metadata": {
  "kernelspec": {
   "display_name": "Python 3",
   "language": "python",
   "name": "python3"
  },
  "language_info": {
   "codemirror_mode": {
    "name": "ipython",
    "version": 3
   },
   "file_extension": ".py",
   "mimetype": "text/x-python",
   "name": "python",
   "nbconvert_exporter": "python",
   "pygments_lexer": "ipython3",
   "version": "3.7.3"
  }
 },
 "nbformat": 4,
 "nbformat_minor": 4
}
