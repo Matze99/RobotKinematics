{
 "cells": [
  {
   "cell_type": "markdown",
   "metadata": {},
   "source": [
    "Please first do the first tutorial to get familia with the definition of robots and matrics."
   ]
  },
  {
   "cell_type": "markdown",
   "metadata": {},
   "source": [
    "# Tutorial 2: Robot Kinematics"
   ]
  },
  {
   "cell_type": "code",
   "execution_count": 2,
   "metadata": {},
   "outputs": [],
   "source": [
    "from sympy import symbols, pi\n",
    "\n",
    "from robot import Robot, JointType\n",
    "\n",
    "from robot import Vector, Matrix"
   ]
  },
  {
   "cell_type": "code",
   "execution_count": 9,
   "metadata": {},
   "outputs": [],
   "source": [
    "t1, t2, t3 = symbols('t1 t2 t3')\n",
    "l1, l2, l3 = symbols('l1 l2 l3')\n",
    "g = symbols('g')"
   ]
  },
  {
   "cell_type": "code",
   "execution_count": 5,
   "metadata": {},
   "outputs": [
    {
     "data": {
      "text/plain": [
       "Robot[\n",
       " - BASE joint\t [a: 0.0, alpha: 0.0, d: 0, theta: 0]\n",
       " - ROTATIONAL joint\t [a: 0, alpha: 0, d: 0, theta: t1]\n",
       " - ROTATIONAL joint\t [a: l1, alpha: pi/2, d: 0, theta: t2]\n",
       " - ROTATIONAL joint\t [a: l2, alpha: 0, d: 0, theta: t3]\n",
       " - END_EFFECTOR\t [a: l3, alpha: 0, d: 0, theta: 0]\n",
       "]"
      ]
     },
     "execution_count": 5,
     "metadata": {},
     "output_type": "execute_result"
    }
   ],
   "source": [
    "dh = [\n",
    "    [0, 0, 0, t1],\n",
    "    [l1, pi/2, 0, t2],\n",
    "    [l2,0,0,t3],\n",
    "    [l3, 0, 0, 0]\n",
    "]\n",
    "\n",
    "robot = Robot.from_dh_parameters(dh, [JointType.ROTATIONAL, JointType.ROTATIONAL, JointType.ROTATIONAL])\n",
    "\n",
    "robot"
   ]
  },
  {
   "cell_type": "markdown",
   "metadata": {},
   "source": [
    "Given a robot we can easily calculate all transformation matrices:"
   ]
  },
  {
   "cell_type": "code",
   "execution_count": 6,
   "metadata": {},
   "outputs": [
    {
     "name": "stdout",
     "output_type": "stream",
     "text": [
      "Matrix[\n",
      "\tcos(t1),    -sin(t1),    0,    0,    \n",
      "\tsin(t1),    cos(t1),    0,    0,    \n",
      "\t0,    0,    1,    0,    \n",
      "\t0,    0,    0,    1,    \n",
      "]\n",
      "Matrix[\n",
      "\tcos(t2),    -sin(t2),    0,    l1,    \n",
      "\t0,    0,    -1,    0,    \n",
      "\tsin(t2),    cos(t2),    0,    0,    \n",
      "\t0,    0,    0,    1,    \n",
      "]\n",
      "Matrix[\n",
      "\tcos(t3),    -sin(t3),    0,    l2,    \n",
      "\tsin(t3),    cos(t3),    0,    0,    \n",
      "\t0,    0,    1,    0,    \n",
      "\t0,    0,    0,    1,    \n",
      "]\n",
      "Matrix[\n",
      "\t1,    0,    0,    l3,    \n",
      "\t0,    1,    0,    0,    \n",
      "\t0,    0,    1,    0,    \n",
      "\t0,    0,    0,    1,    \n",
      "]\n"
     ]
    }
   ],
   "source": [
    "robot.get_transformations()"
   ]
  },
  {
   "cell_type": "markdown",
   "metadata": {},
   "source": [
    "We can also get the position of the endeffector:"
   ]
  },
  {
   "cell_type": "code",
   "execution_count": 7,
   "metadata": {},
   "outputs": [
    {
     "data": {
      "text/plain": [
       "Vector[\t(l1 + l2*cos(t2) + l3*cos(t2 + t3))*cos(t1),  (l1 + l2*cos(t2) + l3*cos(t2 + t3))*sin(t1),  l2*sin(t2) + l3*sin(t2 + t3),  1,  ]"
      ]
     },
     "execution_count": 7,
     "metadata": {},
     "output_type": "execute_result"
    }
   ],
   "source": [
    "p_e = (robot.get_end_transformation() @ Vector([0, 0, 0, 1])).simplify()\n",
    "\n",
    "p_e"
   ]
  },
  {
   "cell_type": "markdown",
   "metadata": {},
   "source": [
    "We can calculate both the static and the dynamic kinematics of the robot. To calculate the static dynamics simply call:"
   ]
  },
  {
   "cell_type": "code",
   "execution_count": 8,
   "metadata": {},
   "outputs": [
    {
     "name": "stdout",
     "output_type": "stream",
     "text": [
      "joint 1:\n",
      " - w: Vector[\t0,  0,  dot_t1,  ]\n",
      " - v: Vector[\t0,  0,  0,  ]\n",
      "joint 2:\n",
      " - w: Vector[\tdot_t1*sin(t2),  dot_t1*cos(t2),  dot_t2,  ]\n",
      " - v: Vector[\t0,  0,  -dot_t1*l1,  ]\n",
      "joint 3:\n",
      " - w: Vector[\tdot_t1*sin(t2 + t3),  dot_t1*cos(t2 + t3),  dot_t2 + dot_t3,  ]\n",
      " - v: Vector[\tdot_t2*l2*sin(t3),  dot_t2*l2*cos(t3),  -dot_t1*(l1 + l2*cos(t2)),  ]\n",
      "joint 4:\n",
      " - w: Vector[\tdot_t1*sin(t2 + t3),  dot_t1*cos(t2 + t3),  dot_t2 + dot_t3,  ]\n",
      " - v: Vector[\tdot_t2*l2*sin(t3),  dot_t2*l2*cos(t3) + l3*(dot_t2 + dot_t3),  -dot_t1*(l1 + l2*cos(t2) + l3*cos(t2 + t3)),  ]\n",
      "\n",
      "backwards:\n",
      "\n",
      "joint 3:\n",
      " - f: Vector[\tF1,  F2,  F3,  ]\n",
      " - n: Vector[\tN1,  -F3*l3 + N2,  F2*l3 + N3,  ]\n",
      "simplified 3:\n",
      " - f: Vector[\tF1,  F2,  F3,  ]\n",
      " - n: Vector[\tN1,  -F3*l3 + N2,  F2*l3 + N3,  ]\n",
      "joint 2:\n",
      " - f: Vector[\tF1*cos(t3) - F2*sin(t3),  F1*sin(t3) + F2*cos(t3),  F3,  ]\n",
      " - n: Vector[\tN1*cos(t3) - (-F3*l3 + N2)*sin(t3),  -F3*l2 + N1*sin(t3) + (-F3*l3 + N2)*cos(t3),  F2*l3 + N3 + l2*(F1*sin(t3) + F2*cos(t3)),  ]\n",
      " - tau: F2*l3 + N3 + l2*(F1*sin(t3) + F2*cos(t3))\n",
      "simplified 2:\n",
      " - f: Vector[\tF1*cos(t3) - F2*sin(t3),  F1*sin(t3) + F2*cos(t3),  F3,  ]\n",
      " - n: Vector[\tN1*cos(t3) + (F3*l3 - N2)*sin(t3),  -F3*l2 + N1*sin(t3) + (-F3*l3 + N2)*cos(t3),  F2*l3 + N3 + l2*(F1*sin(t3) + F2*cos(t3)),  ]\n",
      " - tau: F2*l3 + N3 + l2*(F1*sin(t3) + F2*cos(t3))\n",
      "joint 1:\n",
      " - f: Vector[\t-(F1*sin(t3) + F2*cos(t3))*sin(t2) + (F1*cos(t3) - F2*sin(t3))*cos(t2),  -F3,  (F1*sin(t3) + F2*cos(t3))*cos(t2) + (F1*cos(t3) - F2*sin(t3))*sin(t2),  ]\n",
      " - n: Vector[\t(N1*cos(t3) + (F3*l3 - N2)*sin(t3))*cos(t2) - (-F3*l2 + N1*sin(t3) + (-F3*l3 + N2)*cos(t3))*sin(t2),  -F2*l3 - N3 - l1*((F1*sin(t3) + F2*cos(t3))*cos(t2) + (F1*cos(t3) - F2*sin(t3))*sin(t2)) - l2*(F1*sin(t3) + F2*cos(t3)),  -F3*l1 + (N1*cos(t3) + (F3*l3 - N2)*sin(t3))*sin(t2) + (-F3*l2 + N1*sin(t3) + (-F3*l3 + N2)*cos(t3))*cos(t2),  ]\n",
      " - tau: -F3*l1 - F3*l2*cos(t2) - F3*l3*cos(t2 + t3) + N1*sin(t2 + t3) + N2*cos(t2 + t3)\n",
      "simplified 1:\n",
      " - f: Vector[\tF1*cos(t2 + t3) - F2*sin(t2 + t3),  -F3,  F1*sin(t2 + t3) + F2*cos(t2 + t3),  ]\n",
      " - n: Vector[\tF3*l2*sin(t2) + F3*l3*sin(t2 + t3) + N1*cos(t2 + t3) - N2*sin(t2 + t3),  -F1*l1*sin(t2 + t3) - F1*l2*sin(t3) - F2*l1*cos(t2 + t3) - F2*l2*cos(t3) - F2*l3 - N3,  -F3*l1 - F3*l2*cos(t2) - F3*l3*cos(t2 + t3) + N1*sin(t2 + t3) + N2*cos(t2 + t3),  ]\n",
      " - tau: -F3*l1 - F3*l2*cos(t2) - F3*l3*cos(t2 + t3) + N1*sin(t2 + t3) + N2*cos(t2 + t3)\n"
     ]
    }
   ],
   "source": [
    "ws, vs, fs, ns, ts = robot.cal_static_kinematics(True, True)"
   ]
  },
  {
   "cell_type": "markdown",
   "metadata": {},
   "source": [
    "Before we can calculate the dynamic kinematics, we have to define the centers of mass as well as the gravity vector:"
   ]
  },
  {
   "cell_type": "code",
   "execution_count": 11,
   "metadata": {},
   "outputs": [],
   "source": [
    "cof_points = [Vector([0, 0, 0]), Vector([l1 , 0, 0]), Vector([0, 0, 0])]\n",
    "robot.add_cof(cof_points)\n",
    "# gravity\n",
    "g_vec = Vector([0, g, 0])"
   ]
  },
  {
   "cell_type": "markdown",
   "metadata": {},
   "source": [
    "Now we can calculate the dynamic kinematics:"
   ]
  },
  {
   "cell_type": "code",
   "execution_count": null,
   "metadata": {},
   "outputs": [
    {
     "name": "stdout",
     "output_type": "stream",
     "text": [
      "----------------Forwards Newton Euler----------------\n",
      "\n",
      "\n",
      "\n",
      "joint 1:\n",
      " - w: Vector[\t0,  0,  dot_t1,  ]\n",
      " - dw: Vector[\t0,  0,  ddot_t1,  ]\n",
      " - dv: Vector[\tg*sin(t1),  g*cos(t1),  0,  ]\n",
      "simplified 1:\n",
      " - w: Vector[\t0,  0,  dot_t1,  ]\n",
      " - dw: Vector[\t0,  0,  ddot_t1,  ]\n",
      " - dv: Vector[\tg*sin(t1),  g*cos(t1),  0,  ]\n",
      "joint 1:\n",
      " - dvc: Vector[\tg*sin(t1),  g*cos(t1),  0,  ]\n",
      " - F: Vector[\tg*m1*sin(t1),  g*m1*cos(t1),  0,  ]\n",
      " - N: Vector[\t0,  0,  I_zz1*ddot_t1,  ]\n",
      "simplified 1:\n",
      " - dvc: Vector[\tg*sin(t1),  g*cos(t1),  0,  ]\n",
      " - F: Vector[\tg*m1*sin(t1),  g*m1*cos(t1),  0,  ]\n",
      " - N: Vector[\t0,  0,  I_zz1*ddot_t1,  ]\n",
      "\n",
      "joint 2:\n",
      " - w: Vector[\tdot_t1*sin(t2),  dot_t1*cos(t2),  dot_t2,  ]\n",
      " - dw: Vector[\tddot_t1*sin(t2) + dot_t1*dot_t2*cos(t2),  ddot_t1*cos(t2) - dot_t1*dot_t2*sin(t2),  ddot_t2,  ]\n",
      " - dv: Vector[\t(-dot_t1**2*l1 + g*sin(t1))*cos(t2),  -(-dot_t1**2*l1 + g*sin(t1))*sin(t2),  -ddot_t1*l1 - g*cos(t1),  ]\n",
      "simplified 2:\n",
      " - w: Vector[\tdot_t1*sin(t2),  dot_t1*cos(t2),  dot_t2,  ]\n",
      " - dw: Vector[\tddot_t1*sin(t2) + dot_t1*dot_t2*cos(t2),  ddot_t1*cos(t2) - dot_t1*dot_t2*sin(t2),  ddot_t2,  ]\n",
      " - dv: Vector[\t(-dot_t1**2*l1 + g*sin(t1))*cos(t2),  (dot_t1**2*l1 - g*sin(t1))*sin(t2),  -ddot_t1*l1 - g*cos(t1),  ]\n",
      "joint 2:\n",
      " - dvc: Vector[\t-dot_t1**2*l1*cos(t2)**2 - dot_t2**2*l1 + (-dot_t1**2*l1 + g*sin(t1))*cos(t2),  ddot_t2*l1 + dot_t1**2*l1*sin(t2)*cos(t2) + (dot_t1**2*l1 - g*sin(t1))*sin(t2),  -ddot_t1*l1 + dot_t1*dot_t2*l1*sin(t2) - g*cos(t1) - l1*(ddot_t1*cos(t2) - dot_t1*dot_t2*sin(t2)),  ]\n",
      " - F: Vector[\tm2*(-dot_t1**2*l1*cos(t2)**2 - dot_t2**2*l1 - (dot_t1**2*l1 - g*sin(t1))*cos(t2)),  m2*(ddot_t2*l1 + dot_t1**2*l1*sin(2*t2)/2 + (dot_t1**2*l1 - g*sin(t1))*sin(t2)),  m2*(-ddot_t1*l1*cos(t2) - ddot_t1*l1 + 2*dot_t1*dot_t2*l1*sin(t2) - g*cos(t1)),  ]\n",
      " - N: Vector[\tI_xx2*(ddot_t1*sin(t2) + dot_t1*dot_t2*cos(t2)) - I_yy2*dot_t1*dot_t2*cos(t2) + I_zz2*dot_t1*dot_t2*cos(t2),  I_xx2*dot_t1*dot_t2*sin(t2) + I_yy2*(ddot_t1*cos(t2) - dot_t1*dot_t2*sin(t2)) - I_zz2*dot_t1*dot_t2*sin(t2),  -I_xx2*dot_t1**2*sin(t2)*cos(t2) + I_yy2*dot_t1**2*sin(t2)*cos(t2) + I_zz2*ddot_t2,  ]\n",
      "simplified 2:\n",
      " - dvc: Vector[\t-dot_t1**2*l1*cos(t2)**2 - dot_t2**2*l1 - (dot_t1**2*l1 - g*sin(t1))*cos(t2),  ddot_t2*l1 + dot_t1**2*l1*sin(2*t2)/2 + (dot_t1**2*l1 - g*sin(t1))*sin(t2),  -ddot_t1*l1*cos(t2) - ddot_t1*l1 + 2*dot_t1*dot_t2*l1*sin(t2) - g*cos(t1),  ]\n",
      " - F: Vector[\t-m2*(dot_t1**2*l1*cos(t2)**2 + dot_t2**2*l1 + (dot_t1**2*l1 - g*sin(t1))*cos(t2)),  m2*(2*ddot_t2*l1 + dot_t1**2*l1*sin(2*t2) + 2*(dot_t1**2*l1 - g*sin(t1))*sin(t2))/2,  m2*(-ddot_t1*l1*cos(t2) - ddot_t1*l1 + 2*dot_t1*dot_t2*l1*sin(t2) - g*cos(t1)),  ]\n",
      " - N: Vector[\tI_xx2*(ddot_t1*sin(t2) + dot_t1*dot_t2*cos(t2)) - I_yy2*dot_t1*dot_t2*cos(t2) + I_zz2*dot_t1*dot_t2*cos(t2),  I_xx2*dot_t1*dot_t2*sin(t2) + I_yy2*(ddot_t1*cos(t2) - dot_t1*dot_t2*sin(t2)) - I_zz2*dot_t1*dot_t2*sin(t2),  -I_xx2*dot_t1**2*sin(2*t2)/2 + I_yy2*dot_t1**2*sin(2*t2)/2 + I_zz2*ddot_t2,  ]\n",
      "\n",
      "joint 3:\n",
      " - w: Vector[\tdot_t1*sin(t2)*cos(t3) + dot_t1*sin(t3)*cos(t2),  -dot_t1*sin(t2)*sin(t3) + dot_t1*cos(t2)*cos(t3),  dot_t2 + dot_t3,  ]\n",
      " - dw: Vector[\tdot_t3*(-dot_t1*sin(t2)*sin(t3) + dot_t1*cos(t2)*cos(t3)) + (ddot_t1*sin(t2) + dot_t1*dot_t2*cos(t2))*cos(t3) + (ddot_t1*cos(t2) - dot_t1*dot_t2*sin(t2))*sin(t3),  -dot_t3*(dot_t1*sin(t2)*cos(t3) + dot_t1*sin(t3)*cos(t2)) - (ddot_t1*sin(t2) + dot_t1*dot_t2*cos(t2))*sin(t3) + (ddot_t1*cos(t2) - dot_t1*dot_t2*sin(t2))*cos(t3),  ddot_t2 + ddot_t3,  ]\n",
      " - dv: Vector[\t(ddot_t2*l2 + dot_t1**2*l2*sin(t2)*cos(t2) + (dot_t1**2*l1 - g*sin(t1))*sin(t2))*sin(t3) + (-dot_t1**2*l2*cos(t2)**2 - dot_t2**2*l2 + (-dot_t1**2*l1 + g*sin(t1))*cos(t2))*cos(t3),  (ddot_t2*l2 + dot_t1**2*l2*sin(t2)*cos(t2) + (dot_t1**2*l1 - g*sin(t1))*sin(t2))*cos(t3) - (-dot_t1**2*l2*cos(t2)**2 - dot_t2**2*l2 + (-dot_t1**2*l1 + g*sin(t1))*cos(t2))*sin(t3),  -ddot_t1*l1 + dot_t1*dot_t2*l2*sin(t2) - g*cos(t1) - l2*(ddot_t1*cos(t2) - dot_t1*dot_t2*sin(t2)),  ]\n",
      "simplified 3:\n",
      " - w: Vector[\tdot_t1*sin(t2 + t3),  dot_t1*cos(t2 + t3),  dot_t2 + dot_t3,  ]\n",
      " - dw: Vector[\tddot_t1*sin(t2 + t3) + dot_t1*dot_t2*cos(t2 + t3) + dot_t1*dot_t3*cos(t2 + t3),  ddot_t1*cos(t2 + t3) - dot_t1*dot_t2*sin(t2 + t3) - dot_t1*dot_t3*sin(t2 + t3),  ddot_t2 + ddot_t3,  ]\n",
      " - dv: Vector[\tddot_t2*l2*sin(t3) - dot_t1**2*l1*cos(t2 + t3) + dot_t1**2*l2*sin(t2)*sin(t2 + t3) - dot_t1**2*l2*cos(t3) - dot_t2**2*l2*cos(t3) + g*sin(t1)*cos(t2 + t3),  ddot_t2*l2*cos(t3) + dot_t1**2*l1*sin(t2 + t3) + dot_t1**2*l2*sin(t2)*cos(t2 + t3) + dot_t1**2*l2*sin(t3) + dot_t2**2*l2*sin(t3) - g*sin(t1)*sin(t2 + t3),  -ddot_t1*l1 - ddot_t1*l2*cos(t2) + 2*dot_t1*dot_t2*l2*sin(t2) - g*cos(t1),  ]\n",
      "joint 3:\n",
      " - dvc: Vector[\tddot_t2*l2*sin(t3) - dot_t1**2*l1*cos(t2 + t3) + dot_t1**2*l2*sin(t2)*sin(t2 + t3) - dot_t1**2*l2*cos(t3) - dot_t2**2*l2*cos(t3) + g*sin(t1)*cos(t2 + t3),  ddot_t2*l2*cos(t3) + dot_t1**2*l1*sin(t2 + t3) + dot_t1**2*l2*sin(t2)*cos(t2 + t3) + dot_t1**2*l2*sin(t3) + dot_t2**2*l2*sin(t3) - g*sin(t1)*sin(t2 + t3),  -ddot_t1*l1 - ddot_t1*l2*cos(t2) + 2*dot_t1*dot_t2*l2*sin(t2) - g*cos(t1),  ]\n",
      " - F: Vector[\tm3*(ddot_t2*l2*sin(t3) - dot_t1**2*l1*cos(t2 + t3) + dot_t1**2*l2*sin(t2)*sin(t2 + t3) - dot_t1**2*l2*cos(t3) - dot_t2**2*l2*cos(t3) + g*sin(t1)*cos(t2 + t3)),  m3*(ddot_t2*l2*cos(t3) + dot_t1**2*l1*sin(t2 + t3) + dot_t1**2*l2*sin(t2)*cos(t2 + t3) + dot_t1**2*l2*sin(t3) + dot_t2**2*l2*sin(t3) - g*sin(t1)*sin(t2 + t3)),  m3*(-ddot_t1*l1 - ddot_t1*l2*cos(t2) + 2*dot_t1*dot_t2*l2*sin(t2) - g*cos(t1)),  ]\n",
      " - N: Vector[\tI_xx3*(ddot_t1*sin(t2 + t3) + dot_t1*dot_t2*cos(t2 + t3) + dot_t1*dot_t3*cos(t2 + t3)) - I_yy3*dot_t1*(dot_t2 + dot_t3)*cos(t2 + t3) + I_zz3*dot_t1*(dot_t2 + dot_t3)*cos(t2 + t3),  I_xx3*dot_t1*(dot_t2 + dot_t3)*sin(t2 + t3) + I_yy3*(ddot_t1*cos(t2 + t3) - dot_t1*dot_t2*sin(t2 + t3) - dot_t1*dot_t3*sin(t2 + t3)) - I_zz3*dot_t1*(dot_t2 + dot_t3)*sin(t2 + t3),  -I_xx3*dot_t1**2*sin(t2 + t3)*cos(t2 + t3) + I_yy3*dot_t1**2*sin(t2 + t3)*cos(t2 + t3) + I_zz3*(ddot_t2 + ddot_t3),  ]\n",
      "simplified 3:\n",
      " - dvc: Vector[\tddot_t2*l2*sin(t3) - dot_t1**2*l1*cos(t2 + t3) + dot_t1**2*l2*sin(t2)*sin(t2 + t3) - dot_t1**2*l2*cos(t3) - dot_t2**2*l2*cos(t3) + g*sin(t1)*cos(t2 + t3),  ddot_t2*l2*cos(t3) + dot_t1**2*l1*sin(t2 + t3) + dot_t1**2*l2*sin(t2)*cos(t2 + t3) + dot_t1**2*l2*sin(t3) + dot_t2**2*l2*sin(t3) - g*sin(t1)*sin(t2 + t3),  -ddot_t1*l1 - ddot_t1*l2*cos(t2) + 2*dot_t1*dot_t2*l2*sin(t2) - g*cos(t1),  ]\n",
      " - F: Vector[\tm3*(ddot_t2*l2*sin(t3) - dot_t1**2*l1*cos(t2 + t3) + dot_t1**2*l2*sin(t2)*sin(t2 + t3) - dot_t1**2*l2*cos(t3) - dot_t2**2*l2*cos(t3) + g*sin(t1)*cos(t2 + t3)),  m3*(ddot_t2*l2*cos(t3) + dot_t1**2*l1*sin(t2 + t3) + dot_t1**2*l2*sin(t2)*cos(t2 + t3) + dot_t1**2*l2*sin(t3) + dot_t2**2*l2*sin(t3) - g*sin(t1)*sin(t2 + t3)),  m3*(-ddot_t1*l1 - ddot_t1*l2*cos(t2) + 2*dot_t1*dot_t2*l2*sin(t2) - g*cos(t1)),  ]\n",
      " - N: Vector[\tI_xx3*(ddot_t1*sin(t2 + t3) + dot_t1*dot_t2*cos(t2 + t3) + dot_t1*dot_t3*cos(t2 + t3)) - I_yy3*dot_t1*(dot_t2 + dot_t3)*cos(t2 + t3) + I_zz3*dot_t1*(dot_t2 + dot_t3)*cos(t2 + t3),  I_xx3*dot_t1*(dot_t2 + dot_t3)*sin(t2 + t3) - I_yy3*(-ddot_t1*cos(t2 + t3) + dot_t1*dot_t2*sin(t2 + t3) + dot_t1*dot_t3*sin(t2 + t3)) - I_zz3*dot_t1*(dot_t2 + dot_t3)*sin(t2 + t3),  -I_xx3*dot_t1**2*sin(2*t2 + 2*t3)/2 + I_yy3*dot_t1**2*sin(2*t2 + 2*t3)/2 + I_zz3*(ddot_t2 + ddot_t3),  ]\n",
      "\n",
      "joint 4:\n",
      " - w: Vector[\tdot_t1*sin(t2 + t3),  dot_t1*cos(t2 + t3),  dot_t2 + dot_t3,  ]\n",
      " - dw: Vector[\tddot_t1*sin(t2 + t3) + dot_t1*dot_t2*cos(t2 + t3) + dot_t1*dot_t3*cos(t2 + t3),  ddot_t1*cos(t2 + t3) - dot_t1*dot_t2*sin(t2 + t3) - dot_t1*dot_t3*sin(t2 + t3),  ddot_t2 + ddot_t3,  ]\n",
      " - dv: Vector[\tddot_t2*l2*sin(t3) - dot_t1**2*l1*cos(t2 + t3) + dot_t1**2*l2*sin(t2)*sin(t2 + t3) - dot_t1**2*l2*cos(t3) - dot_t1**2*l3*cos(t2 + t3)**2 - dot_t2**2*l2*cos(t3) + g*sin(t1)*cos(t2 + t3) - l3*(dot_t2 + dot_t3)**2,  ddot_t2*l2*cos(t3) + dot_t1**2*l1*sin(t2 + t3) + dot_t1**2*l2*sin(t2)*cos(t2 + t3) + dot_t1**2*l2*sin(t3) + dot_t1**2*l3*sin(t2 + t3)*cos(t2 + t3) + dot_t2**2*l2*sin(t3) - g*sin(t1)*sin(t2 + t3) + l3*(ddot_t2 + ddot_t3),  -ddot_t1*l1 - ddot_t1*l2*cos(t2) + 2*dot_t1*dot_t2*l2*sin(t2) + dot_t1*l3*(dot_t2 + dot_t3)*sin(t2 + t3) - g*cos(t1) - l3*(ddot_t1*cos(t2 + t3) - dot_t1*dot_t2*sin(t2 + t3) - dot_t1*dot_t3*sin(t2 + t3)),  ]\n",
      "simplified 4:\n",
      " - w: Vector[\tdot_t1*sin(t2 + t3),  dot_t1*cos(t2 + t3),  dot_t2 + dot_t3,  ]\n",
      " - dw: Vector[\tddot_t1*sin(t2 + t3) + dot_t1*dot_t2*cos(t2 + t3) + dot_t1*dot_t3*cos(t2 + t3),  ddot_t1*cos(t2 + t3) - dot_t1*dot_t2*sin(t2 + t3) - dot_t1*dot_t3*sin(t2 + t3),  ddot_t2 + ddot_t3,  ]\n",
      " - dv: Vector[\tddot_t2*l2*sin(t3) - dot_t1**2*l1*cos(t2 + t3) + dot_t1**2*l2*sin(t2)*sin(t2 + t3) - dot_t1**2*l2*cos(t3) - dot_t1**2*l3*cos(t2 + t3)**2 - dot_t2**2*l2*cos(t3) + g*sin(t1)*cos(t2 + t3) - l3*(dot_t2 + dot_t3)**2,  ddot_t2*l2*cos(t3) + ddot_t2*l3 + ddot_t3*l3 + dot_t1**2*l1*sin(t2 + t3) + dot_t1**2*l2*sin(t3)/2 + dot_t1**2*l2*sin(2*t2 + t3)/2 + dot_t1**2*l3*sin(2*t2 + 2*t3)/2 + dot_t2**2*l2*sin(t3) - g*cos(-t1 + t2 + t3)/2 + g*cos(t1 + t2 + t3)/2,  -ddot_t1*l1 - ddot_t1*l2*cos(t2) - ddot_t1*l3*cos(t2 + t3) + 2*dot_t1*dot_t2*l2*sin(t2) + 2*dot_t1*dot_t2*l3*sin(t2 + t3) + 2*dot_t1*dot_t3*l3*sin(t2 + t3) - g*cos(t1),  ]\n",
      "\n",
      "\n",
      "\n",
      "----------------Backwards Newton Euler----------------\n",
      "\n",
      "\n"
     ]
    },
    {
     "name": "stdout",
     "output_type": "stream",
     "text": [
      "joint 3:\n",
      " - f: Vector[\tm3*(ddot_t2*l2*sin(t3) - dot_t1**2*l1*cos(t2 + t3) + dot_t1**2*l2*sin(t2)*sin(t2 + t3) - dot_t1**2*l2*cos(t3) - dot_t2**2*l2*cos(t3) + g*sin(t1)*cos(t2 + t3)),  m3*(ddot_t2*l2*cos(t3) + dot_t1**2*l1*sin(t2 + t3) + dot_t1**2*l2*sin(t2)*cos(t2 + t3) + dot_t1**2*l2*sin(t3) + dot_t2**2*l2*sin(t3) - g*sin(t1)*sin(t2 + t3)),  m3*(-ddot_t1*l1 - ddot_t1*l2*cos(t2) + 2*dot_t1*dot_t2*l2*sin(t2) - g*cos(t1)),  ]\n",
      " - n: Vector[\tI_xx3*(ddot_t1*sin(t2 + t3) + dot_t1*dot_t2*cos(t2 + t3) + dot_t1*dot_t3*cos(t2 + t3)) - I_yy3*dot_t1*(dot_t2 + dot_t3)*cos(t2 + t3) + I_zz3*dot_t1*(dot_t2 + dot_t3)*cos(t2 + t3),  I_xx3*dot_t1*(dot_t2 + dot_t3)*sin(t2 + t3) - I_yy3*(-ddot_t1*cos(t2 + t3) + dot_t1*dot_t2*sin(t2 + t3) + dot_t1*dot_t3*sin(t2 + t3)) - I_zz3*dot_t1*(dot_t2 + dot_t3)*sin(t2 + t3),  -I_xx3*dot_t1**2*sin(2*t2 + 2*t3)/2 + I_yy3*dot_t1**2*sin(2*t2 + 2*t3)/2 + I_zz3*(ddot_t2 + ddot_t3),  ]\n",
      " - tau: 1\n",
      "simplified 3:\n",
      " - f: Vector[\tm3*(ddot_t2*l2*sin(t3) - dot_t1**2*l1*cos(t2 + t3) + dot_t1**2*l2*sin(t2)*sin(t2 + t3) - dot_t1**2*l2*cos(t3) - dot_t2**2*l2*cos(t3) + g*sin(t1)*cos(t2 + t3)),  m3*(ddot_t2*l2*cos(t3) + dot_t1**2*l1*sin(t2 + t3) + dot_t1**2*l2*sin(t2)*cos(t2 + t3) + dot_t1**2*l2*sin(t3) + dot_t2**2*l2*sin(t3) - g*sin(t1)*sin(t2 + t3)),  m3*(-ddot_t1*l1 - ddot_t1*l2*cos(t2) + 2*dot_t1*dot_t2*l2*sin(t2) - g*cos(t1)),  ]\n",
      " - n: Vector[\tI_xx3*(ddot_t1*sin(t2 + t3) + dot_t1*dot_t2*cos(t2 + t3) + dot_t1*dot_t3*cos(t2 + t3)) - I_yy3*dot_t1*(dot_t2 + dot_t3)*cos(t2 + t3) + I_zz3*dot_t1*(dot_t2 + dot_t3)*cos(t2 + t3),  I_xx3*dot_t1*(dot_t2 + dot_t3)*sin(t2 + t3) - I_yy3*(-ddot_t1*cos(t2 + t3) + dot_t1*dot_t2*sin(t2 + t3) + dot_t1*dot_t3*sin(t2 + t3)) - I_zz3*dot_t1*(dot_t2 + dot_t3)*sin(t2 + t3),  -I_xx3*dot_t1**2*sin(2*t2 + 2*t3)/2 + I_yy3*dot_t1**2*sin(2*t2 + 2*t3)/2 + I_zz3*(ddot_t2 + ddot_t3),  ]\n",
      " - tau: 1\n",
      "joint 2:\n",
      " - f: Vector[\t-m2*(dot_t1**2*l1*cos(t2)**2 + dot_t2**2*l1 + (dot_t1**2*l1 - g*sin(t1))*cos(t2)) + m3*(ddot_t2*l2*sin(t3) - dot_t1**2*l1*cos(t2 + t3) + dot_t1**2*l2*sin(t2)*sin(t2 + t3) - dot_t1**2*l2*cos(t3) - dot_t2**2*l2*cos(t3) + g*sin(t1)*cos(t2 + t3))*cos(t2) - m3*(ddot_t2*l2*cos(t3) + dot_t1**2*l1*sin(t2 + t3) + dot_t1**2*l2*sin(t2)*cos(t2 + t3) + dot_t1**2*l2*sin(t3) + dot_t2**2*l2*sin(t3) - g*sin(t1)*sin(t2 + t3))*sin(t2),  m2*(2*ddot_t2*l1 + dot_t1**2*l1*sin(2*t2) + 2*(dot_t1**2*l1 - g*sin(t1))*sin(t2))/2 - m3*(-ddot_t1*l1 - ddot_t1*l2*cos(t2) + 2*dot_t1*dot_t2*l2*sin(t2) - g*cos(t1)),  m2*(-ddot_t1*l1*cos(t2) - ddot_t1*l1 + 2*dot_t1*dot_t2*l1*sin(t2) - g*cos(t1)) + m3*(ddot_t2*l2*sin(t3) - dot_t1**2*l1*cos(t2 + t3) + dot_t1**2*l2*sin(t2)*sin(t2 + t3) - dot_t1**2*l2*cos(t3) - dot_t2**2*l2*cos(t3) + g*sin(t1)*cos(t2 + t3))*sin(t2) + m3*(ddot_t2*l2*cos(t3) + dot_t1**2*l1*sin(t2 + t3) + dot_t1**2*l2*sin(t2)*cos(t2 + t3) + dot_t1**2*l2*sin(t3) + dot_t2**2*l2*sin(t3) - g*sin(t1)*sin(t2 + t3))*cos(t2),  ]\n",
      " - n: Vector[\tI_xx2*(ddot_t1*sin(t2) + dot_t1*dot_t2*cos(t2)) - I_yy2*dot_t1*dot_t2*cos(t2) + I_zz2*dot_t1*dot_t2*cos(t2) + (I_xx3*(ddot_t1*sin(t2 + t3) + dot_t1*dot_t2*cos(t2 + t3) + dot_t1*dot_t3*cos(t2 + t3)) - I_yy3*dot_t1*(dot_t2 + dot_t3)*cos(t2 + t3) + I_zz3*dot_t1*(dot_t2 + dot_t3)*cos(t2 + t3))*cos(t2) - (I_xx3*dot_t1*(dot_t2 + dot_t3)*sin(t2 + t3) - I_yy3*(-ddot_t1*cos(t2 + t3) + dot_t1*dot_t2*sin(t2 + t3) + dot_t1*dot_t3*sin(t2 + t3)) - I_zz3*dot_t1*(dot_t2 + dot_t3)*sin(t2 + t3))*sin(t2),  I_xx2*dot_t1*dot_t2*sin(t2) + I_xx3*dot_t1**2*sin(2*t2 + 2*t3)/2 + I_yy2*(ddot_t1*cos(t2) - dot_t1*dot_t2*sin(t2)) - I_yy3*dot_t1**2*sin(2*t2 + 2*t3)/2 - I_zz2*dot_t1*dot_t2*sin(t2) - I_zz3*(ddot_t2 + ddot_t3) - l1*m2*(-ddot_t1*l1*cos(t2) - ddot_t1*l1 + 2*dot_t1*dot_t2*l1*sin(t2) - g*cos(t1)) - l2*(m3*(ddot_t2*l2*sin(t3) - dot_t1**2*l1*cos(t2 + t3) + dot_t1**2*l2*sin(t2)*sin(t2 + t3) - dot_t1**2*l2*cos(t3) - dot_t2**2*l2*cos(t3) + g*sin(t1)*cos(t2 + t3))*sin(t2) + m3*(ddot_t2*l2*cos(t3) + dot_t1**2*l1*sin(t2 + t3) + dot_t1**2*l2*sin(t2)*cos(t2 + t3) + dot_t1**2*l2*sin(t3) + dot_t2**2*l2*sin(t3) - g*sin(t1)*sin(t2 + t3))*cos(t2)),  -I_xx2*dot_t1**2*sin(2*t2)/2 + I_yy2*dot_t1**2*sin(2*t2)/2 + I_zz2*ddot_t2 + l1*m2*(2*ddot_t2*l1 + dot_t1**2*l1*sin(2*t2) + 2*(dot_t1**2*l1 - g*sin(t1))*sin(t2))/2 - l2*m3*(-ddot_t1*l1 - ddot_t1*l2*cos(t2) + 2*dot_t1*dot_t2*l2*sin(t2) - g*cos(t1)) + (I_xx3*(ddot_t1*sin(t2 + t3) + dot_t1*dot_t2*cos(t2 + t3) + dot_t1*dot_t3*cos(t2 + t3)) - I_yy3*dot_t1*(dot_t2 + dot_t3)*cos(t2 + t3) + I_zz3*dot_t1*(dot_t2 + dot_t3)*cos(t2 + t3))*sin(t2) + (I_xx3*dot_t1*(dot_t2 + dot_t3)*sin(t2 + t3) - I_yy3*(-ddot_t1*cos(t2 + t3) + dot_t1*dot_t2*sin(t2 + t3) + dot_t1*dot_t3*sin(t2 + t3)) - I_zz3*dot_t1*(dot_t2 + dot_t3)*sin(t2 + t3))*cos(t2),  ]\n",
      " - tau: 1\n",
      "simplified 2:\n",
      " - f: Vector[\t-ddot_t2*l2*m3*sin(t2 - t3) + dot_t1**2*l1*m2*sin(t2)**2 - dot_t1**2*l1*m2*cos(t2) - dot_t1**2*l1*m2 - dot_t1**2*l1*m3*cos(t3) + dot_t1**2*l2*m3*sin(t2)*sin(t3) - dot_t1**2*l2*m3*cos(t2 - t3) - dot_t2**2*l1*m2 - dot_t2**2*l2*m3*cos(t2 - t3) + g*m2*sin(t1)*cos(t2) + g*m3*sin(t1)*cos(t3),  m2*(2*ddot_t2*l1 + dot_t1**2*l1*sin(2*t2) + 2*(dot_t1**2*l1 - g*sin(t1))*sin(t2))/2 + m3*(ddot_t1*l1 + ddot_t1*l2*cos(t2) - 2*dot_t1*dot_t2*l2*sin(t2) + g*cos(t1)),  -ddot_t1*l1*m2*cos(t2) - ddot_t1*l1*m2 + ddot_t2*l2*m3*cos(t2 - t3) + dot_t1**2*l1*m3*sin(t3) + dot_t1**2*l2*m3*sin(t2)*cos(t3) - dot_t1**2*l2*m3*sin(t2 - t3) + 2*dot_t1*dot_t2*l1*m2*sin(t2) - dot_t2**2*l2*m3*sin(t2 - t3) - g*m2*cos(t1) - g*m3*sin(t1)*sin(t3),  ]\n",
      " - n: Vector[\tI_xx2*(ddot_t1*sin(t2) + dot_t1*dot_t2*cos(t2)) - I_yy2*dot_t1*dot_t2*cos(t2) + I_zz2*dot_t1*dot_t2*cos(t2) + (I_xx3*(ddot_t1*sin(t2 + t3) + dot_t1*dot_t2*cos(t2 + t3) + dot_t1*dot_t3*cos(t2 + t3)) - I_yy3*dot_t1*(dot_t2 + dot_t3)*cos(t2 + t3) + I_zz3*dot_t1*(dot_t2 + dot_t3)*cos(t2 + t3))*cos(t2) + (-I_xx3*dot_t1*(dot_t2 + dot_t3)*sin(t2 + t3) + I_yy3*(-ddot_t1*cos(t2 + t3) + dot_t1*dot_t2*sin(t2 + t3) + dot_t1*dot_t3*sin(t2 + t3)) + I_zz3*dot_t1*(dot_t2 + dot_t3)*sin(t2 + t3))*sin(t2),  I_xx2*dot_t1*dot_t2*sin(t2) + I_xx3*dot_t1**2*sin(2*t2 + 2*t3)/2 + I_yy2*(ddot_t1*cos(t2) - dot_t1*dot_t2*sin(t2)) - I_yy3*dot_t1**2*sin(2*t2 + 2*t3)/2 - I_zz2*dot_t1*dot_t2*sin(t2) - I_zz3*(ddot_t2 + ddot_t3) + l1*m2*(ddot_t1*l1*cos(t2) + ddot_t1*l1 - 2*dot_t1*dot_t2*l1*sin(t2) + g*cos(t1)) - l2*m3*(ddot_t2*l2*cos(t2 - t3) + dot_t1**2*l1*sin(t3) + dot_t1**2*l2*sin(t3)*cos(t2) - dot_t2**2*l2*sin(t2 - t3) - g*sin(t1)*sin(t3)),  -I_xx2*dot_t1**2*sin(2*t2)/2 + I_yy2*dot_t1**2*sin(2*t2)/2 + I_zz2*ddot_t2 + l1*m2*(2*ddot_t2*l1 + dot_t1**2*l1*sin(2*t2) + 2*(dot_t1**2*l1 - g*sin(t1))*sin(t2))/2 + l2*m3*(ddot_t1*l1 + ddot_t1*l2*cos(t2) - 2*dot_t1*dot_t2*l2*sin(t2) + g*cos(t1)) + (I_xx3*(ddot_t1*sin(t2 + t3) + dot_t1*dot_t2*cos(t2 + t3) + dot_t1*dot_t3*cos(t2 + t3)) - I_yy3*dot_t1*(dot_t2 + dot_t3)*cos(t2 + t3) + I_zz3*dot_t1*(dot_t2 + dot_t3)*cos(t2 + t3))*sin(t2) - (-I_xx3*dot_t1*(dot_t2 + dot_t3)*sin(t2 + t3) + I_yy3*(-ddot_t1*cos(t2 + t3) + dot_t1*dot_t2*sin(t2 + t3) + dot_t1*dot_t3*sin(t2 + t3)) + I_zz3*dot_t1*(dot_t2 + dot_t3)*sin(t2 + t3))*cos(t2),  ]\n",
      " - tau: 1\n"
     ]
    }
   ],
   "source": [
    "_ = robot.cal_newton_euler(True, True, g_vec)"
   ]
  },
  {
   "cell_type": "markdown",
   "metadata": {},
   "source": [
    "If we do not want the results to be printed to the console we can set the first bool to `False`:"
   ]
  },
  {
   "cell_type": "code",
   "execution_count": null,
   "metadata": {},
   "outputs": [],
   "source": [
    "result = robot.cal_newton_euler(False, True, g_vec)"
   ]
  },
  {
   "cell_type": "code",
   "execution_count": null,
   "metadata": {},
   "outputs": [],
   "source": []
  }
 ],
 "metadata": {
  "kernelspec": {
   "display_name": "Python 3",
   "language": "python",
   "name": "python3"
  },
  "language_info": {
   "codemirror_mode": {
    "name": "ipython",
    "version": 3
   },
   "file_extension": ".py",
   "mimetype": "text/x-python",
   "name": "python",
   "nbconvert_exporter": "python",
   "pygments_lexer": "ipython3",
   "version": "3.7.3"
  }
 },
 "nbformat": 4,
 "nbformat_minor": 4
}
